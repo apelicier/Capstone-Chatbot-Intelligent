{
 "cells": [
  {
   "cell_type": "markdown",
   "id": "1af6e10a",
   "metadata": {},
   "source": []
  },
  {
   "cell_type": "code",
   "execution_count": 1,
   "id": "fe39511c",
   "metadata": {},
   "outputs": [
    {
     "name": "stdout",
     "output_type": "stream",
     "text": [
      "Toutes les librairies ont été importées avec succès !\n",
      "==================================================\n"
     ]
    }
   ],
   "source": [
    "# Importation des librairies\n",
    "import os\n",
    "import json\n",
    "import random\n",
    "import nltk\n",
    "import pickle\n",
    "import numpy as np\n",
    "import torch\n",
    "import torch.nn as nn\n",
    "import torch.optim as optim\n",
    "import torch.nn.functional as F\n",
    "from torch.utils.data import DataLoader, TensorDataset\n",
    "from tqdm import tqdm\n",
    "import matplotlib.pyplot as plt\n",
    "import numpy as np\n",
    "import joblib\n",
    "import time\n",
    "\n",
    "from sklearn.feature_extraction.text import TfidfVectorizer\n",
    "from sklearn.model_selection import train_test_split\n",
    "from sklearn.metrics import classification_report, accuracy_score\n",
    "from nltk.corpus import stopwords\n",
    "from nltk.stem import WordNetLemmatizer\n",
    "#nltk.download('stopwords')\n",
    "from collections import Counter\n",
    "from sklearn.metrics import accuracy_score, classification_report\n",
    "from sklearn.svm import SVC\n",
    "from sklearn.linear_model import LogisticRegression\n",
    "from sklearn.naive_bayes import MultinomialNB\n",
    "from sklearn.ensemble import RandomForestClassifier\n",
    "from sklearn.neighbors import KNeighborsClassifier\n",
    "from sklearn.neural_network import MLPClassifier\n",
    "from sklearn.svm import LinearSVC\n",
    "import threading\n",
    "from tkinter import *\n",
    "from tkinter import scrolledtext\n",
    "\n",
    "print('Toutes les librairies ont été importées avec succès !')\n",
    "print('='*50)\n"
   ]
  },
  {
   "cell_type": "code",
   "execution_count": null,
   "id": "26f59bcf",
   "metadata": {},
   "outputs": [
    {
     "name": "stdout",
     "output_type": "stream",
     "text": [
      "Les intentions de l'ensemble de données ont été créées avec succès !\n"
     ]
    }
   ],
   "source": [
    "\"\"\"# Charger l'ensemble de données\n",
    "with open('data/healthcare.json','r',encoding='utf-8') as f:\n",
    "    data = json.load(f)\n",
    "\n",
    "intents = {'intents':[]}\n",
    "#\n",
    "for convo in data:\n",
    "    tag = convo.get(\"agent_selected_tool\", \"general\").replace(\" \",\"_\").lower()\n",
    "\n",
    "\n",
    "    pattern = convo.get(\"user_1\", \"\")\n",
    "    response = convo.get(\"agent_initial_response\", \"\")\n",
    "\n",
    "\n",
    "    if pattern and response:\n",
    "        intents['intents'].append({\n",
    "            \"tag\":tag,\n",
    "            \"patterns\":[pattern],\n",
    "            \"responses\":[response]\n",
    "        })\n",
    "\n",
    "# Save the new dataset\n",
    "with open(\"data/healthcare_intents.json\", \"w\", encoding=\"utf-8\") as f:\n",
    "    json.dump(intents, f, indent=4)\n",
    "\n",
    "\n",
    "print(\"Les intentions de l'ensemble de données ont été créées avec succès !\")\"\"\"\n",
    "    \n",
    "\n",
    "\n",
    "\n",
    "\n",
    "\n",
    "\n"
   ]
  },
  {
   "cell_type": "code",
   "execution_count": 2,
   "id": "51320f19",
   "metadata": {},
   "outputs": [],
   "source": [
    "# Classe principale du Modele\n",
    "class ChatbotModel(nn.Module):\n",
    "    def __init__(self, input_size, output_size):\n",
    "        super().__init__()\n",
    "        self.fc1 = nn.Linear(input_size, 512)\n",
    "        self.bn1 = nn.BatchNorm1d(512)\n",
    "        self.fc2 = nn.Linear(512, 256)\n",
    "        self.bn2 = nn.BatchNorm1d(256)\n",
    "        self.fc3 = nn.Linear(256, 128)\n",
    "        self.bn3 = nn.BatchNorm1d(128)\n",
    "        self.fc4 = nn.Linear(128, 64)\n",
    "        self.drop = nn.Dropout(0.4)\n",
    "        self.out = nn.Linear(64, output_size)\n",
    "        self.relu = nn.ReLU()\n",
    "\n",
    "    def forward(self, x):\n",
    "        x = self.relu(self.bn1(self.fc1(x)))\n",
    "        x = self.drop(x)\n",
    "        x = self.relu(self.bn2(self.fc2(x)))\n",
    "        x = self.drop(x)\n",
    "        x = self.relu(self.bn3(self.fc3(x)))\n",
    "        x = self.drop(x)\n",
    "        x = self.relu(self.fc4(x))\n",
    "        x = self.out(x)  \n",
    "        return x\n"
   ]
  },
  {
   "cell_type": "markdown",
   "id": "d259f5b2",
   "metadata": {},
   "source": [
    "# Comparaison entre différents modèles"
   ]
  },
  {
   "cell_type": "code",
   "execution_count": null,
   "id": "d233b838",
   "metadata": {},
   "outputs": [],
   "source": [
    "\n",
    "\n",
    "# Assistant chatbot\n",
    "class ChatbotAssistant:\n",
    "    def __init__(self, intents_path, function_mappings=None, device=None):\n",
    "        self.intents_path = intents_path\n",
    "        self.function_mappings = function_mappings\n",
    "\n",
    "        self.documents = []\n",
    "        self.intents = []\n",
    "        self.intents_responses = {}\n",
    "\n",
    "        self.vectorizer = None\n",
    "        self.label_names = None\n",
    "        self.model = None\n",
    "\n",
    "        self.X = None\n",
    "        self.y = None\n",
    "\n",
    "        self.device = device or (\"cuda\" if torch.cuda.is_available() else \"cpu\")\n",
    "\n",
    "        for r in [\"punkt\", \"wordnet\", \"omw-1.4\", \"stopwords\"]:\n",
    "            try:\n",
    "                nltk.data.find(f\"corpora/{r}\")\n",
    "            except LookupError:\n",
    "                nltk.download(r)\n",
    "\n",
    "    \n",
    "    # Prétraitement du texte\n",
    "    @staticmethod\n",
    "    def preprocess_text(text):\n",
    "        lemmatizer = WordNetLemmatizer()\n",
    "        stop_words = set(stopwords.words(\"english\"))\n",
    "        if not isinstance(text, str):\n",
    "            return \"\"\n",
    "        tokens = nltk.word_tokenize(text.lower())\n",
    "        tokens = [t for t in tokens if t.isalpha() and t not in stop_words]\n",
    "        lemmas = [lemmatizer.lemmatize(t) for t in tokens]\n",
    "        return \" \".join(lemmas)\n",
    "\n",
    "    \n",
    "    \n",
    "    # Analyser les intentions\n",
    "    def parse_intents(self):\n",
    "        if not os.path.exists(self.intents_path):\n",
    "            raise FileNotFoundError(f\"File not found: {self.intents_path}\")\n",
    "\n",
    "        with open(self.intents_path, \"r\", encoding=\"utf-8\") as f:\n",
    "            data = json.load(f)\n",
    "\n",
    "        self.documents = []\n",
    "        self.intents = []\n",
    "        self.intents_responses = {}\n",
    "\n",
    "        for intent in data.get(\"intents\", []):\n",
    "            tag = intent.get(\"tag\")\n",
    "            if tag is None:\n",
    "                continue\n",
    "            if tag not in self.intents:\n",
    "                self.intents.append(tag)\n",
    "                self.intents_responses[tag] = intent.get(\"responses\", [])\n",
    "\n",
    "            for pattern in intent.get(\"patterns\", []):\n",
    "                cleaned = self.preprocess_text(pattern)\n",
    "                self.documents.append((cleaned, tag))\n",
    "\n",
    "        print(f\"Loaded {len(self.documents)} patterns across {len(self.intents)} intents.\")\n",
    "\n",
    "    \n",
    "    \n",
    "    # Créer des caractéristiques TF-IDF\n",
    "    def build_features(self, max_features=2000):\n",
    "        texts = [doc[0] for doc in self.documents]\n",
    "        tags = [doc[1] for doc in self.documents]\n",
    "\n",
    "        self.label_names = sorted(list(set(self.intents)))\n",
    "        tag_to_idx = {t: i for i, t in enumerate(self.label_names)}\n",
    "        self.y = np.array([tag_to_idx[t] for t in tags])\n",
    "\n",
    "        self.vectorizer = TfidfVectorizer(max_features=max_features)\n",
    "        self.X = self.vectorizer.fit_transform(texts).toarray()\n",
    "        print(f\"TF-IDF built: X.shape={self.X.shape}, y.shape={self.y.shape}\")\n",
    "\n",
    "        \n",
    "     \n",
    "    # Entraîner et comparer des modèles\n",
    "    def compare_models(self, test_size=0.2, random_state=42, max_features=2000):\n",
    "        \"\"\"Compare plusieurs modèles ML sur le même dataset (TF-IDF).\"\"\"\n",
    "    \n",
    "\n",
    "        try:\n",
    "            from xgboost import XGBClassifier\n",
    "            xgb_available = True\n",
    "        except ImportError:\n",
    "            print(\" XGBoost not installed, skipping it.\")\n",
    "            xgb_available = False\n",
    "\n",
    "        # Préparation des données\n",
    "        if self.X is None or self.y is None:\n",
    "            self.build_features(max_features=max_features)\n",
    "        # Filtrer les classes rares (<2 exemples)\n",
    "        cnt = Counter(self.y)\n",
    "        valid = [cls for cls, c in cnt.items() if c >= 2]\n",
    "\n",
    "        if len(valid) < 2:\n",
    "            raise ValueError(\"Il n'y a pas assez de classes valides avec au moins 2 échantillons chacune !\")\n",
    "\n",
    "        mask = np.isin(self.y, valid)\n",
    "        self.X = self.X[mask]\n",
    "        self.y = self.y[mask]\n",
    "\n",
    "        print(f\"Filtered dataset: {len(self.y)} samples, {len(valid)} valid classes\")\n",
    "\n",
    "        X_train, X_test, y_train, y_test = train_test_split(\n",
    "            self.X, self.y, test_size=test_size, random_state=random_state,\n",
    "            stratify=self.y if len(set(self.y)) > 1 else None\n",
    "        )\n",
    "\n",
    "        models = {\n",
    "            \"Logistic Regression\": LogisticRegression(max_iter=1000, n_jobs=-1),\n",
    "            \"SVM\": LinearSVC(),\n",
    "            \"Naive Bayes\": MultinomialNB(),\n",
    "            \"Random Forest\": RandomForestClassifier(n_estimators=200, random_state=42),\n",
    "            \"KNN\": KNeighborsClassifier(n_neighbors=5),\n",
    "            \"MLP (Sklearn)\": MLPClassifier(hidden_layer_sizes=(512, 256, 128),\n",
    "                                        activation='relu', max_iter=300, random_state=42)\n",
    "        }\n",
    "\n",
    "        if xgb_available:\n",
    "            models[\"XGBoost\"] = XGBClassifier(use_label_encoder=False, eval_metric='mlogloss')\n",
    "\n",
    "        results = {}\n",
    "        print(\"\\n Comparaison des modèles...\\n\")\n",
    "\n",
    "        for name, model in models.items():\n",
    "            print(f\"\\n Training {name} ...\")\n",
    "            start = time.time()\n",
    "            model.fit(X_train, y_train)\n",
    "            preds = model.predict(X_test)\n",
    "            acc = accuracy_score(y_test, preds)\n",
    "            elapsed = time.time() - start\n",
    "            results[name] = acc\n",
    "            print(f\" Accuracy: {acc:.4f}  |  Time: {elapsed:.2f}s\")\n",
    "            print(classification_report(y_test, preds, zero_division=0))\n",
    "\n",
    "\n",
    "        \n",
    "        # --- Comparaison avec Neural Network (Torch)\n",
    "        print(\"\\n Neural Network (Torch)\")\n",
    "        input_size = self.X.shape[1]\n",
    "        output_size = len(self.label_names)\n",
    "        model = ChatbotModel(input_size, output_size)\n",
    "        criterion = nn.CrossEntropyLoss()\n",
    "        optimizer = optim.Adam(model.parameters(), lr=1e-3)\n",
    "\n",
    "        X_train_t = torch.tensor(X_train, dtype=torch.float32)\n",
    "        y_train_t = torch.tensor(y_train, dtype=torch.long)\n",
    "        X_test_t = torch.tensor(X_test, dtype=torch.float32)\n",
    "        y_test_t = torch.tensor(y_test, dtype=torch.long)\n",
    "        train_loader = DataLoader(TensorDataset(X_train_t, y_train_t), batch_size=32, shuffle=True)\n",
    "\n",
    "        for epoch in range(50):\n",
    "            model.train()\n",
    "            running_loss = 0.0\n",
    "            for Xb, yb in train_loader:\n",
    "                optimizer.zero_grad()\n",
    "                out = model(Xb)\n",
    "                loss = criterion(out, yb)\n",
    "                loss.backward()\n",
    "                optimizer.step()\n",
    "                running_loss += loss.item()\n",
    "            print(f\"Epoch {epoch+1}/50 | Loss: {running_loss/len(train_loader):.4f}\")\n",
    "\n",
    "        model.eval()\n",
    "        with torch.no_grad():\n",
    "            preds_nn = torch.argmax(model(X_test_t), dim=1).numpy()\n",
    "\n",
    "        acc_nn = accuracy_score(y_test, preds_nn)\n",
    "        results[\"Neural Network\"] = acc_nn\n",
    "        print(\"\\n Précision des réseaux neuronaux:\", acc_nn)\n",
    "        unique_labels = np.unique(y_test)\n",
    "        filtered_names = [self.label_names[i] for i in unique_labels if i < len(self.label_names)]\n",
    "        print(classification_report(y_test, preds_nn, labels=unique_labels, target_names=filtered_names))\n",
    "\n",
    "        # Résumé global\n",
    "        print(\"\\n Résumé de la comparaison des modèles:\")\n",
    "        for k, v in results.items():\n",
    "            print(f\"{k:<25} → {v:.4f}\")\n",
    "\n",
    "        best_model = max(results, key=results.get)\n",
    "        print(f\"\\n Best model: {best_model} with accuracy = {results[best_model]:.4f}\")\n",
    "\n",
    "        # Graphique comparatif\n",
    "        plt.figure(figsize=(10, 6))\n",
    "        plt.barh(list(results.keys()), list(results.values()), color='skyblue')\n",
    "        plt.xlabel(\"Accuracy\")\n",
    "        plt.title(\"Comparaison des modèles\")\n",
    "        plt.grid(axis=\"x\", linestyle=\"--\", alpha=0.7)\n",
    "        plt.show()\n",
    "\n",
    "        return results\n",
    "\n"
   ]
  },
  {
   "cell_type": "code",
   "execution_count": 70,
   "metadata": {},
   "outputs": [
    {
     "name": "stderr",
     "output_type": "stream",
     "text": [
      "[nltk_data] Downloading package punkt to\n",
      "[nltk_data]     C:\\Users\\Calixte\\AppData\\Roaming\\nltk_data...\n",
      "[nltk_data]   Package punkt is already up-to-date!\n",
      "[nltk_data] Downloading package wordnet to\n",
      "[nltk_data]     C:\\Users\\Calixte\\AppData\\Roaming\\nltk_data...\n",
      "[nltk_data]   Package wordnet is already up-to-date!\n",
      "[nltk_data] Downloading package omw-1.4 to\n",
      "[nltk_data]     C:\\Users\\Calixte\\AppData\\Roaming\\nltk_data...\n",
      "[nltk_data]   Package omw-1.4 is already up-to-date!\n"
     ]
    },
    {
     "name": "stdout",
     "output_type": "stream",
     "text": [
      "Loaded 758 patterns across 137 intents.\n",
      "TF-IDF built: X.shape=(758, 852), y.shape=(758,)\n",
      " XGBoost not installed, skipping it.\n",
      "Filtered dataset: 690 samples, 69 valid classes\n",
      "\n",
      " Comparaison des modèles...\n",
      "\n",
      "\n",
      " Training Logistic Regression ...\n",
      " Accuracy: 0.6232  |  Time: 47.91s\n",
      "              precision    recall  f1-score   support\n",
      "\n",
      "           1       0.00      0.00      0.00         1\n",
      "           2       0.00      0.00      0.00         1\n",
      "           3       0.00      0.00      0.00         1\n",
      "           7       0.00      0.00      0.00         1\n",
      "           9       0.80      1.00      0.89         8\n",
      "          10       0.00      0.00      0.00         1\n",
      "          11       0.25      0.40      0.31         5\n",
      "          12       0.00      0.00      0.00         1\n",
      "          13       0.67      1.00      0.80         2\n",
      "          14       0.00      0.00      0.00         1\n",
      "          16       0.80      1.00      0.89         8\n",
      "          20       0.00      0.00      0.00         2\n",
      "          21       1.00      1.00      1.00         1\n",
      "          26       0.00      0.00      0.00         1\n",
      "          28       0.00      0.00      0.00         1\n",
      "          30       0.00      0.00      0.00         1\n",
      "          31       0.00      0.00      0.00         1\n",
      "          32       0.50      0.60      0.55         5\n",
      "          35       0.00      0.00      0.00         2\n",
      "          36       0.50      0.50      0.50         4\n",
      "          38       1.00      1.00      1.00         1\n",
      "          48       0.00      0.00      0.00         1\n",
      "          49       1.00      1.00      1.00         3\n",
      "          50       1.00      0.75      0.86         4\n",
      "          54       0.00      0.00      0.00         1\n",
      "          55       0.00      0.00      0.00         1\n",
      "          56       0.75      1.00      0.86         6\n",
      "          60       0.00      0.00      0.00         1\n",
      "          63       1.00      0.33      0.50         3\n",
      "          66       0.00      0.00      0.00         1\n",
      "          75       0.00      0.00      0.00         1\n",
      "          76       0.67      1.00      0.80         2\n",
      "          83       0.00      0.00      0.00         1\n",
      "          90       0.33      0.50      0.40         2\n",
      "          95       0.00      0.00      0.00         1\n",
      "          97       0.80      1.00      0.89         8\n",
      "          99       0.00      0.00      0.00         1\n",
      "         101       0.62      1.00      0.77         5\n",
      "         104       0.00      0.00      0.00         1\n",
      "         105       0.47      1.00      0.64         9\n",
      "         108       0.00      0.00      0.00         1\n",
      "         109       0.00      0.00      0.00         1\n",
      "         110       0.00      0.00      0.00         1\n",
      "         111       0.00      0.00      0.00         1\n",
      "         113       0.00      0.00      0.00         2\n",
      "         114       0.00      0.00      0.00         1\n",
      "         115       0.00      0.00      0.00         1\n",
      "         116       1.00      1.00      1.00         3\n",
      "         118       1.00      0.25      0.40         4\n",
      "         122       0.00      0.00      0.00         1\n",
      "         127       0.46      1.00      0.63        13\n",
      "         128       0.00      0.00      0.00         1\n",
      "         130       1.00      0.67      0.80         3\n",
      "         132       0.00      0.00      0.00         2\n",
      "         135       1.00      1.00      1.00         2\n",
      "\n",
      "    accuracy                           0.62       138\n",
      "   macro avg       0.30      0.33      0.30       138\n",
      "weighted avg       0.51      0.62      0.53       138\n",
      "\n",
      "\n",
      " Training SVM ...\n",
      " Accuracy: 0.6812  |  Time: 0.06s\n",
      "              precision    recall  f1-score   support\n",
      "\n",
      "           1       0.00      0.00      0.00         1\n",
      "           2       0.00      0.00      0.00         1\n",
      "           3       0.00      0.00      0.00         1\n",
      "           7       1.00      1.00      1.00         1\n",
      "           9       0.89      1.00      0.94         8\n",
      "          10       0.00      0.00      0.00         1\n",
      "          11       0.29      0.40      0.33         5\n",
      "          12       0.00      0.00      0.00         1\n",
      "          13       0.67      1.00      0.80         2\n",
      "          14       0.00      0.00      0.00         1\n",
      "          16       0.89      1.00      0.94         8\n",
      "          20       1.00      1.00      1.00         2\n",
      "          21       1.00      1.00      1.00         1\n",
      "          26       0.50      1.00      0.67         1\n",
      "          28       0.00      0.00      0.00         1\n",
      "          30       0.50      1.00      0.67         1\n",
      "          31       0.00      0.00      0.00         1\n",
      "          32       0.60      0.60      0.60         5\n",
      "          33       0.00      0.00      0.00         0\n",
      "          35       0.00      0.00      0.00         2\n",
      "          36       0.40      0.50      0.44         4\n",
      "          38       1.00      1.00      1.00         1\n",
      "          48       0.00      0.00      0.00         1\n",
      "          49       1.00      1.00      1.00         3\n",
      "          50       0.67      1.00      0.80         4\n",
      "          54       0.00      0.00      0.00         1\n",
      "          55       0.00      0.00      0.00         1\n",
      "          56       1.00      1.00      1.00         6\n",
      "          60       0.00      0.00      0.00         1\n",
      "          63       1.00      0.67      0.80         3\n",
      "          66       0.00      0.00      0.00         1\n",
      "          75       0.00      0.00      0.00         1\n",
      "          76       0.67      1.00      0.80         2\n",
      "          83       0.00      0.00      0.00         1\n",
      "          90       0.50      0.50      0.50         2\n",
      "          95       0.00      0.00      0.00         1\n",
      "          97       0.80      1.00      0.89         8\n",
      "          99       0.00      0.00      0.00         1\n",
      "         101       0.62      1.00      0.77         5\n",
      "         104       0.00      0.00      0.00         1\n",
      "         105       0.69      1.00      0.82         9\n",
      "         108       0.00      0.00      0.00         1\n",
      "         109       0.00      0.00      0.00         1\n",
      "         110       0.00      0.00      0.00         1\n",
      "         111       0.00      0.00      0.00         1\n",
      "         112       0.00      0.00      0.00         0\n",
      "         113       0.50      0.50      0.50         2\n",
      "         114       0.00      0.00      0.00         1\n",
      "         115       0.00      0.00      0.00         1\n",
      "         116       1.00      1.00      1.00         3\n",
      "         118       0.50      0.25      0.33         4\n",
      "         122       1.00      1.00      1.00         1\n",
      "         127       1.00      0.85      0.92        13\n",
      "         128       0.00      0.00      0.00         1\n",
      "         130       1.00      0.67      0.80         3\n",
      "         132       0.50      0.50      0.50         2\n",
      "         135       0.50      1.00      0.67         2\n",
      "\n",
      "    accuracy                           0.68       138\n",
      "   macro avg       0.38      0.43      0.39       138\n",
      "weighted avg       0.62      0.68      0.64       138\n",
      "\n",
      "\n",
      " Training Naive Bayes ...\n",
      " Accuracy: 0.4710  |  Time: 0.06s\n",
      "              precision    recall  f1-score   support\n",
      "\n",
      "           1       0.00      0.00      0.00         1\n",
      "           2       0.00      0.00      0.00         1\n",
      "           3       0.00      0.00      0.00         1\n",
      "           7       0.00      0.00      0.00         1\n",
      "           9       0.73      1.00      0.84         8\n",
      "          10       0.00      0.00      0.00         1\n",
      "          11       0.50      0.40      0.44         5\n",
      "          12       0.00      0.00      0.00         1\n",
      "          13       0.00      0.00      0.00         2\n",
      "          14       0.00      0.00      0.00         1\n",
      "          16       0.67      1.00      0.80         8\n",
      "          20       0.00      0.00      0.00         2\n",
      "          21       0.00      0.00      0.00         1\n",
      "          26       0.00      0.00      0.00         1\n",
      "          28       0.00      0.00      0.00         1\n",
      "          30       0.00      0.00      0.00         1\n",
      "          31       0.00      0.00      0.00         1\n",
      "          32       1.00      0.20      0.33         5\n",
      "          35       0.00      0.00      0.00         2\n",
      "          36       0.00      0.00      0.00         4\n",
      "          38       0.00      0.00      0.00         1\n",
      "          48       0.00      0.00      0.00         1\n",
      "          49       1.00      0.33      0.50         3\n",
      "          50       1.00      0.25      0.40         4\n",
      "          54       0.00      0.00      0.00         1\n",
      "          55       0.00      0.00      0.00         1\n",
      "          56       1.00      0.83      0.91         6\n",
      "          60       0.00      0.00      0.00         1\n",
      "          63       0.00      0.00      0.00         3\n",
      "          66       0.00      0.00      0.00         1\n",
      "          75       0.00      0.00      0.00         1\n",
      "          76       0.67      1.00      0.80         2\n",
      "          83       0.00      0.00      0.00         1\n",
      "          90       0.00      0.00      0.00         2\n",
      "          95       0.00      0.00      0.00         1\n",
      "          97       0.73      1.00      0.84         8\n",
      "          99       0.00      0.00      0.00         1\n",
      "         101       0.62      1.00      0.77         5\n",
      "         104       0.00      0.00      0.00         1\n",
      "         105       0.36      1.00      0.53         9\n",
      "         108       0.00      0.00      0.00         1\n",
      "         109       0.00      0.00      0.00         1\n",
      "         110       0.00      0.00      0.00         1\n",
      "         111       0.00      0.00      0.00         1\n",
      "         113       0.00      0.00      0.00         2\n",
      "         114       0.00      0.00      0.00         1\n",
      "         115       0.00      0.00      0.00         1\n",
      "         116       1.00      0.67      0.80         3\n",
      "         118       0.00      0.00      0.00         4\n",
      "         122       0.00      0.00      0.00         1\n",
      "         127       0.24      1.00      0.39        13\n",
      "         128       0.00      0.00      0.00         1\n",
      "         130       0.00      0.00      0.00         3\n",
      "         132       0.00      0.00      0.00         2\n",
      "         135       0.00      0.00      0.00         2\n",
      "\n",
      "    accuracy                           0.47       138\n",
      "   macro avg       0.17      0.18      0.15       138\n",
      "weighted avg       0.37      0.47      0.36       138\n",
      "\n",
      "\n",
      " Training Random Forest ...\n",
      " Accuracy: 0.6594  |  Time: 2.70s\n",
      "              precision    recall  f1-score   support\n",
      "\n",
      "           1       0.00      0.00      0.00         1\n",
      "           2       0.00      0.00      0.00         1\n",
      "           3       0.50      1.00      0.67         1\n",
      "           7       0.00      0.00      0.00         1\n",
      "           9       1.00      1.00      1.00         8\n",
      "          10       0.00      0.00      0.00         1\n",
      "          11       0.50      0.60      0.55         5\n",
      "          12       0.00      0.00      0.00         1\n",
      "          13       0.67      1.00      0.80         2\n",
      "          14       0.00      0.00      0.00         1\n",
      "          16       1.00      1.00      1.00         8\n",
      "          20       0.00      0.00      0.00         2\n",
      "          21       1.00      1.00      1.00         1\n",
      "          26       0.00      0.00      0.00         1\n",
      "          28       0.00      0.00      0.00         1\n",
      "          30       0.00      0.00      0.00         1\n",
      "          31       0.00      0.00      0.00         1\n",
      "          32       0.50      0.60      0.55         5\n",
      "          35       0.67      1.00      0.80         2\n",
      "          36       0.67      0.50      0.57         4\n",
      "          38       1.00      1.00      1.00         1\n",
      "          48       0.00      0.00      0.00         1\n",
      "          49       1.00      1.00      1.00         3\n",
      "          50       0.16      1.00      0.28         4\n",
      "          54       0.00      0.00      0.00         1\n",
      "          55       0.00      0.00      0.00         1\n",
      "          56       1.00      0.83      0.91         6\n",
      "          60       0.00      0.00      0.00         1\n",
      "          63       1.00      0.67      0.80         3\n",
      "          66       0.00      0.00      0.00         1\n",
      "          75       0.00      0.00      0.00         1\n",
      "          76       0.67      1.00      0.80         2\n",
      "          83       0.00      0.00      0.00         1\n",
      "          90       0.00      0.00      0.00         2\n",
      "          95       0.00      0.00      0.00         1\n",
      "          97       0.80      1.00      0.89         8\n",
      "          99       0.00      0.00      0.00         1\n",
      "         101       0.83      1.00      0.91         5\n",
      "         104       0.00      0.00      0.00         1\n",
      "         105       0.82      1.00      0.90         9\n",
      "         108       0.00      0.00      0.00         1\n",
      "         109       0.00      0.00      0.00         1\n",
      "         110       0.00      0.00      0.00         1\n",
      "         111       0.00      0.00      0.00         1\n",
      "         113       1.00      0.50      0.67         2\n",
      "         114       0.00      0.00      0.00         1\n",
      "         115       1.00      1.00      1.00         1\n",
      "         116       1.00      1.00      1.00         3\n",
      "         118       0.00      0.00      0.00         4\n",
      "         122       1.00      1.00      1.00         1\n",
      "         127       1.00      0.77      0.87        13\n",
      "         128       1.00      1.00      1.00         1\n",
      "         130       0.67      0.67      0.67         3\n",
      "         132       1.00      0.50      0.67         2\n",
      "         135       0.67      1.00      0.80         2\n",
      "\n",
      "    accuracy                           0.66       138\n",
      "   macro avg       0.40      0.43      0.40       138\n",
      "weighted avg       0.63      0.66      0.63       138\n",
      "\n",
      "\n",
      " Training KNN ...\n",
      " Accuracy: 0.4493  |  Time: 0.02s\n",
      "              precision    recall  f1-score   support\n",
      "\n",
      "           1       0.00      0.00      0.00         1\n",
      "           2       0.50      1.00      0.67         1\n",
      "           3       0.00      0.00      0.00         1\n",
      "           7       0.00      0.00      0.00         1\n",
      "           9       0.83      0.62      0.71         8\n",
      "          10       0.00      0.00      0.00         1\n",
      "          11       0.75      0.60      0.67         5\n",
      "          12       0.00      0.00      0.00         1\n",
      "          13       1.00      0.50      0.67         2\n",
      "          14       0.00      0.00      0.00         1\n",
      "          16       0.86      0.75      0.80         8\n",
      "          20       0.00      0.00      0.00         2\n",
      "          21       1.00      1.00      1.00         1\n",
      "          26       1.00      1.00      1.00         1\n",
      "          28       1.00      1.00      1.00         1\n",
      "          30       0.00      0.00      0.00         1\n",
      "          31       0.00      0.00      0.00         1\n",
      "          32       0.67      0.40      0.50         5\n",
      "          33       0.00      0.00      0.00         0\n",
      "          35       0.00      0.00      0.00         2\n",
      "          36       0.40      0.50      0.44         4\n",
      "          38       1.00      1.00      1.00         1\n",
      "          48       0.00      0.00      0.00         1\n",
      "          49       1.00      0.67      0.80         3\n",
      "          50       0.06      1.00      0.11         4\n",
      "          54       0.00      0.00      0.00         1\n",
      "          55       0.00      0.00      0.00         1\n",
      "          56       1.00      0.67      0.80         6\n",
      "          60       0.00      0.00      0.00         1\n",
      "          63       1.00      0.33      0.50         3\n",
      "          66       0.00      0.00      0.00         1\n",
      "          75       0.00      0.00      0.00         1\n",
      "          76       0.67      1.00      0.80         2\n",
      "          83       0.00      0.00      0.00         1\n",
      "          90       0.00      0.00      0.00         2\n",
      "          95       0.00      0.00      0.00         1\n",
      "          97       0.88      0.88      0.88         8\n",
      "          99       0.00      0.00      0.00         1\n",
      "         101       0.67      0.40      0.50         5\n",
      "         104       0.00      0.00      0.00         1\n",
      "         105       1.00      0.44      0.62         9\n",
      "         108       0.00      0.00      0.00         1\n",
      "         109       0.00      0.00      0.00         1\n",
      "         110       0.00      0.00      0.00         1\n",
      "         111       0.00      0.00      0.00         1\n",
      "         113       0.00      0.00      0.00         2\n",
      "         114       0.00      0.00      0.00         1\n",
      "         115       0.00      0.00      0.00         1\n",
      "         116       1.00      1.00      1.00         3\n",
      "         118       0.00      0.00      0.00         4\n",
      "         122       1.00      1.00      1.00         1\n",
      "         127       1.00      0.62      0.76        13\n",
      "         128       0.00      0.00      0.00         1\n",
      "         130       0.00      0.00      0.00         3\n",
      "         132       0.00      0.00      0.00         2\n",
      "         135       0.00      0.00      0.00         2\n",
      "\n",
      "    accuracy                           0.45       138\n",
      "   macro avg       0.33      0.29      0.29       138\n",
      "weighted avg       0.57      0.45      0.47       138\n",
      "\n",
      "\n",
      " Training MLP (Sklearn) ...\n",
      " Accuracy: 0.6449  |  Time: 33.46s\n",
      "              precision    recall  f1-score   support\n",
      "\n",
      "           1       0.00      0.00      0.00         1\n",
      "           2       0.00      0.00      0.00         1\n",
      "           3       0.33      1.00      0.50         1\n",
      "           7       1.00      1.00      1.00         1\n",
      "           9       0.89      1.00      0.94         8\n",
      "          10       0.00      0.00      0.00         1\n",
      "          11       0.40      0.40      0.40         5\n",
      "          12       0.00      0.00      0.00         1\n",
      "          13       0.67      1.00      0.80         2\n",
      "          14       0.00      0.00      0.00         1\n",
      "          16       1.00      0.88      0.93         8\n",
      "          20       0.00      0.00      0.00         2\n",
      "          21       1.00      1.00      1.00         1\n",
      "          26       1.00      1.00      1.00         1\n",
      "          28       0.00      0.00      0.00         1\n",
      "          30       0.00      0.00      0.00         1\n",
      "          31       0.00      0.00      0.00         1\n",
      "          32       0.67      0.40      0.50         5\n",
      "          33       0.00      0.00      0.00         0\n",
      "          35       0.50      1.00      0.67         2\n",
      "          36       1.00      0.50      0.67         4\n",
      "          38       1.00      1.00      1.00         1\n",
      "          48       0.00      0.00      0.00         1\n",
      "          49       1.00      1.00      1.00         3\n",
      "          50       0.31      1.00      0.47         4\n",
      "          54       0.00      0.00      0.00         1\n",
      "          55       0.00      0.00      0.00         1\n",
      "          56       1.00      0.83      0.91         6\n",
      "          60       0.00      0.00      0.00         1\n",
      "          63       1.00      0.67      0.80         3\n",
      "          66       0.00      0.00      0.00         1\n",
      "          75       0.00      0.00      0.00         1\n",
      "          76       0.67      1.00      0.80         2\n",
      "          83       0.00      0.00      0.00         1\n",
      "          90       1.00      0.50      0.67         2\n",
      "          95       0.00      0.00      0.00         1\n",
      "          97       0.78      0.88      0.82         8\n",
      "          99       0.00      0.00      0.00         1\n",
      "         101       0.56      1.00      0.71         5\n",
      "         104       0.00      0.00      0.00         1\n",
      "         105       0.78      0.78      0.78         9\n",
      "         108       0.00      0.00      0.00         1\n",
      "         109       0.00      0.00      0.00         1\n",
      "         110       0.00      0.00      0.00         1\n",
      "         111       0.00      0.00      0.00         1\n",
      "         112       0.00      0.00      0.00         0\n",
      "         113       1.00      1.00      1.00         2\n",
      "         114       0.00      0.00      0.00         1\n",
      "         115       1.00      1.00      1.00         1\n",
      "         116       1.00      1.00      1.00         3\n",
      "         118       1.00      0.25      0.40         4\n",
      "         122       0.00      0.00      0.00         1\n",
      "         127       1.00      0.77      0.87        13\n",
      "         128       0.50      1.00      0.67         1\n",
      "         130       1.00      0.67      0.80         3\n",
      "         132       0.50      0.50      0.50         2\n",
      "         135       0.67      1.00      0.80         2\n",
      "\n",
      "    accuracy                           0.64       138\n",
      "   macro avg       0.42      0.44      0.41       138\n",
      "weighted avg       0.67      0.64      0.63       138\n",
      "\n",
      "\n",
      " Neural Network (Torch)\n",
      "Epoch 1/50 | Loss: 4.8138\n",
      "Epoch 2/50 | Loss: 4.1486\n",
      "Epoch 3/50 | Loss: 3.3872\n",
      "Epoch 4/50 | Loss: 2.8993\n",
      "Epoch 5/50 | Loss: 2.4934\n",
      "Epoch 6/50 | Loss: 2.2443\n",
      "Epoch 7/50 | Loss: 1.9888\n",
      "Epoch 8/50 | Loss: 1.7744\n",
      "Epoch 9/50 | Loss: 1.5907\n",
      "Epoch 10/50 | Loss: 1.4370\n",
      "Epoch 11/50 | Loss: 1.3119\n",
      "Epoch 12/50 | Loss: 1.1457\n",
      "Epoch 13/50 | Loss: 1.0349\n",
      "Epoch 14/50 | Loss: 0.9988\n",
      "Epoch 15/50 | Loss: 0.8673\n",
      "Epoch 16/50 | Loss: 0.8320\n",
      "Epoch 17/50 | Loss: 0.7864\n",
      "Epoch 18/50 | Loss: 0.6770\n",
      "Epoch 19/50 | Loss: 0.6262\n",
      "Epoch 20/50 | Loss: 0.5919\n",
      "Epoch 21/50 | Loss: 0.5391\n",
      "Epoch 22/50 | Loss: 0.4847\n",
      "Epoch 23/50 | Loss: 0.4099\n",
      "Epoch 24/50 | Loss: 0.4347\n",
      "Epoch 25/50 | Loss: 0.4240\n",
      "Epoch 26/50 | Loss: 0.3890\n",
      "Epoch 27/50 | Loss: 0.3846\n",
      "Epoch 28/50 | Loss: 0.3319\n",
      "Epoch 29/50 | Loss: 0.3511\n",
      "Epoch 30/50 | Loss: 0.3172\n",
      "Epoch 31/50 | Loss: 0.3422\n",
      "Epoch 32/50 | Loss: 0.3077\n",
      "Epoch 33/50 | Loss: 0.2834\n",
      "Epoch 34/50 | Loss: 0.2593\n",
      "Epoch 35/50 | Loss: 0.2795\n",
      "Epoch 36/50 | Loss: 0.2693\n",
      "Epoch 37/50 | Loss: 0.1993\n",
      "Epoch 38/50 | Loss: 0.2435\n",
      "Epoch 39/50 | Loss: 0.2598\n",
      "Epoch 40/50 | Loss: 0.2200\n",
      "Epoch 41/50 | Loss: 0.1952\n",
      "Epoch 42/50 | Loss: 0.1741\n",
      "Epoch 43/50 | Loss: 0.1915\n",
      "Epoch 44/50 | Loss: 0.1683\n",
      "Epoch 45/50 | Loss: 0.1979\n",
      "Epoch 46/50 | Loss: 0.2558\n",
      "Epoch 47/50 | Loss: 0.2013\n",
      "Epoch 48/50 | Loss: 0.1933\n",
      "Epoch 49/50 | Loss: 0.2082\n",
      "Epoch 50/50 | Loss: 0.1703\n",
      "\n",
      " Précision des réseaux neuronaux: 0.6594202898550725\n",
      "                                    precision    recall  f1-score   support\n",
      "\n",
      "               appointment_booking       0.00      0.00      0.00         1\n",
      "          appointment_cancellation       0.00      0.00      0.00         1\n",
      "            appointment_reschedule       0.50      1.00      0.67         1\n",
      "                           billing       1.00      1.00      1.00         1\n",
      "                    billingsupport       1.00      1.00      1.00         8\n",
      "                  book_appointment       0.00      0.00      0.00         1\n",
      "                   bookappointment       0.67      0.40      0.50         5\n",
      "                cancel_appointment       0.00      0.00      0.00         1\n",
      "                 cancelappointment       0.67      1.00      0.80         2\n",
      "                    check_symptoms       0.00      0.00      0.00         1\n",
      "                 checkreportstatus       1.00      0.75      0.86         8\n",
      "       confidentialitypolicylookup       1.00      1.00      1.00         2\n",
      "                     confirmupdate       1.00      1.00      1.00         1\n",
      "                    diet_nutrition       0.50      1.00      0.67         1\n",
      "       dischargeinstructionslookup       0.00      0.00      0.00         1\n",
      "               doctor_availability       0.00      0.00      0.00         1\n",
      "             doctor_specialization       0.00      0.00      0.00         1\n",
      "                  doctorinfolookup       0.60      0.60      0.60         5\n",
      "                         emergency       0.50      1.00      0.67         2\n",
      "                  emergencycontact       0.50      0.25      0.33         4\n",
      "                          feedback       1.00      1.00      1.00         1\n",
      "               general_health_tips       0.00      0.00      0.00         1\n",
      "                           goodbye       0.75      1.00      0.86         3\n",
      "                          greeting       0.40      1.00      0.57         4\n",
      "                         insurance       0.00      0.00      0.00         1\n",
      "                    insurance_info       0.00      0.00      0.00         1\n",
      "             insuranceclaimsupport       0.75      1.00      0.86         6\n",
      "             insuranceverification       0.00      0.00      0.00         1\n",
      "                    labtestbooking       1.00      0.67      0.80         3\n",
      "                          location       0.00      0.00      0.00         1\n",
      "                     mental_health       0.00      0.00      0.00         1\n",
      "        mentalhealthresourcelookup       0.33      0.50      0.40         2\n",
      "                      opening_days       0.00      0.00      0.00         1\n",
      "pediatricvaccinationschedulelookup       0.50      0.50      0.50         2\n",
      "               prescription_refill       0.00      0.00      0.00         1\n",
      "                prescriptionrefill       0.80      1.00      0.89         8\n",
      "            recordstransferrequest       0.00      0.00      0.00         1\n",
      "             recordtransferrequest       0.83      1.00      0.91         5\n",
      "            reschedule_appointment       0.00      0.00      0.00         1\n",
      "             rescheduleappointment       0.88      0.78      0.82         9\n",
      "                     symptom_check       0.00      0.00      0.00         1\n",
      "                      symptom_cold       0.00      0.00      0.00         1\n",
      "                     symptom_cough       0.00      0.00      0.00         1\n",
      "                     symptom_fever       0.00      0.00      0.00         1\n",
      "            telehealthavailability       0.50      0.50      0.50         2\n",
      "                telehealthplatform       0.00      0.00      0.00         1\n",
      "                      test_results       1.00      1.00      1.00         1\n",
      "                            thanks       1.00      1.00      1.00         3\n",
      "                      transfercall       1.00      0.25      0.40         4\n",
      "         travelclearanceformlookup       1.00      1.00      1.00         1\n",
      "                 updatepatientinfo       1.00      0.77      0.87        13\n",
      "                       vaccination       0.00      0.00      0.00         1\n",
      "         vaccinationschedulelookup       0.50      1.00      0.67         3\n",
      "            vaccinesideeffectsinfo       0.50      0.50      0.50         2\n",
      "                     working_hours       0.67      1.00      0.80         2\n",
      "\n",
      "                         micro avg       0.67      0.66      0.66       138\n",
      "                         macro avg       0.42      0.46      0.43       138\n",
      "                      weighted avg       0.66      0.66      0.64       138\n",
      "\n",
      "\n",
      " Résumé de la comparaison des modèles:\n",
      "Logistic Regression       → 0.6232\n",
      "SVM                       → 0.6812\n",
      "Naive Bayes               → 0.4710\n",
      "Random Forest             → 0.6594\n",
      "KNN                       → 0.4493\n",
      "MLP (Sklearn)             → 0.6449\n",
      "Neural Network            → 0.6594\n",
      "\n",
      " Best model: SVM with accuracy = 0.6812\n"
     ]
    },
    {
     "name": "stderr",
     "output_type": "stream",
     "text": [
      "c:\\Users\\Calixte\\Documents\\Capstone-Chatbot-Intelligent\\.venv\\Lib\\site-packages\\sklearn\\metrics\\_classification.py:1731: UndefinedMetricWarning: Precision is ill-defined and being set to 0.0 in labels with no predicted samples. Use `zero_division` parameter to control this behavior.\n",
      "  _warn_prf(average, modifier, f\"{metric.capitalize()} is\", result.shape[0])\n",
      "c:\\Users\\Calixte\\Documents\\Capstone-Chatbot-Intelligent\\.venv\\Lib\\site-packages\\sklearn\\metrics\\_classification.py:1731: UndefinedMetricWarning: Precision is ill-defined and being set to 0.0 in labels with no predicted samples. Use `zero_division` parameter to control this behavior.\n",
      "  _warn_prf(average, modifier, f\"{metric.capitalize()} is\", result.shape[0])\n",
      "c:\\Users\\Calixte\\Documents\\Capstone-Chatbot-Intelligent\\.venv\\Lib\\site-packages\\sklearn\\metrics\\_classification.py:1731: UndefinedMetricWarning: Precision is ill-defined and being set to 0.0 in labels with no predicted samples. Use `zero_division` parameter to control this behavior.\n",
      "  _warn_prf(average, modifier, f\"{metric.capitalize()} is\", result.shape[0])\n"
     ]
    },
    {
     "data": {
      "image/png": "[encoded data removed]",
      "text/plain": [
       "<Figure size 1000x600 with 1 Axes>"
      ]
     },
     "metadata": {},
     "output_type": "display_data"
    }
   ],
   "source": [
    "# Exécution\n",
    "assistant = ChatbotAssistant(\"data/healthcare_intents.json\")\n",
    "assistant.parse_intents()\n",
    "assistant.build_features(max_features=2000)\n",
    "\n",
    "results = assistant.compare_models()\n"
   ]
  },
  {
   "cell_type": "markdown",
   "id": "19a24000",
   "metadata": {},
   "source": [
    "# Choix du meilleur modèle\n",
    "    Après avoir comparé plusieurs modèles sur la base de leur taux de précision (Accuracy), nous avons décidé d’entraîner nos données à l’aide de deux modèles : un réseau de neurones (Neural Network) et une machine à vecteurs de support (SVM).\n",
    "    Le SVM a été retenu car il a obtenu la meilleure précision globale parmi les modèles testés.\n",
    "    Le Neural Network, quant à lui, a été conservé puisque ses performances étaient proches de celles du SVM, et qu’il représente le modèle initialement prévu dans la conception de notre chatbot.\n"
   ]
  },
  {
   "cell_type": "code",
   "execution_count": 3,
   "id": "b1e16aa2",
   "metadata": {},
   "outputs": [],
   "source": [
    "# Classe principale du Chatbot\n",
    "    \n",
    "class ChatbotAssistant:\n",
    "    def __init__(self, intents_path, function_mappings=None, device=None):\n",
    "        self.intents_path = intents_path\n",
    "        self.function_mappings = function_mappings\n",
    "\n",
    "        self.documents = []              \n",
    "        self.intents = []                \n",
    "        self.intents_responses = {}      \n",
    "\n",
    "        \n",
    "        self.vectorizer = None\n",
    "        self.label_names = None\n",
    "        self.model = None\n",
    "\n",
    "        \n",
    "        self.X = None\n",
    "        self.y = None\n",
    "\n",
    "        \n",
    "        self.device = device or (\"cuda\" if torch.cuda.is_available() else \"cpu\")\n",
    "\n",
    "    \n",
    "    # Prétraitement du texte\n",
    "    @staticmethod\n",
    "    def preprocess_text(text):\n",
    "        lemmatizer = WordNetLemmatizer()\n",
    "        stop_words = set(stopwords.words('english'))\n",
    "        if not isinstance(text, str):\n",
    "            return \"\"\n",
    "        tokens = nltk.word_tokenize(text.lower())\n",
    "        tokens = [t for t in tokens if t.isalpha() and t not in stop_words]\n",
    "        lemmas = [lemmatizer.lemmatize(t) for t in tokens]\n",
    "        return \" \".join(lemmas)\n",
    "\n",
    "    \n",
    "    \n",
    "    # Chargement du fichier intents.json\n",
    "    def parse_intents(self):\n",
    "        if not os.path.exists(self.intents_path):\n",
    "            raise FileNotFoundError(f\"File not found: {self.intents_path}\")\n",
    "\n",
    "        with open(self.intents_path, \"r\", encoding=\"utf-8\") as f:\n",
    "            data = json.load(f)\n",
    "\n",
    "        self.documents = []\n",
    "        self.intents = []\n",
    "        self.intents_responses = {}\n",
    "\n",
    "        for intent in data.get(\"intents\", []):\n",
    "            tag = intent.get(\"tag\")\n",
    "            if tag is None:\n",
    "                continue\n",
    "            if tag not in self.intents:\n",
    "                self.intents.append(tag)\n",
    "                self.intents_responses[tag] = intent.get(\"responses\", [])\n",
    "\n",
    "            for pattern in intent.get(\"patterns\", []):\n",
    "                cleaned = self.preprocess_text(pattern)\n",
    "               \n",
    "                self.documents.append((cleaned, tag))\n",
    "\n",
    "        print(f\"Loaded {len(self.documents)} patterns across {len(self.intents)} intents.\")\n",
    "\n",
    "    \n",
    "    \n",
    "    #  Vectorisation TF-IDF\n",
    "    def build_features(self, max_features=2000):\n",
    "        texts = [doc[0] for doc in self.documents]\n",
    "        tags = [doc[1] for doc in self.documents]\n",
    "\n",
    "        \n",
    "        self.label_names = sorted(list(set(self.intents)))\n",
    "        tag_to_idx = {t: i for i, t in enumerate(self.label_names)}\n",
    "        self.y = np.array([tag_to_idx[t] for t in tags])\n",
    "\n",
    "        \n",
    "        self.vectorizer = TfidfVectorizer(max_features=max_features)\n",
    "        X = self.vectorizer.fit_transform(texts).toarray()\n",
    "        self.X = X\n",
    "        print(f\"TF-IDF built: X.shape = {self.X.shape}, y.shape = {self.y.shape}\")\n",
    "\n",
    "        cnt = Counter(self.y)\n",
    "        valid = [cls for cls, c in cnt.items() if c >= 2]\n",
    "        mask = np.isin(self.y, valid)\n",
    "        self.X = self.X[mask]\n",
    "        self.y = self.y[mask]\n",
    "        print(\"Filtered shapes:\", self.X.shape, self.y.shape)\n",
    "\n",
    "        old_label_names = self.label_names\n",
    "        new_label_names = [old_label_names[i] for i in valid]\n",
    "\n",
    "        old_to_new = {old_idx: new_idx for new_idx, old_idx in enumerate(valid)}\n",
    "\n",
    "        self.y = np.array([old_to_new[int(old)] for old in self.y if int(old) in old_to_new])\n",
    "\n",
    "        self.label_names = new_label_names\n",
    "        \n",
    "        print(f\"Nouvelle taille de label_names : {len(self.label_names)}\")\n",
    "   \n",
    "    \n",
    "    #  Entraînement du modèle\n",
    "    def train_model(self,\n",
    "                    batch_size=32,\n",
    "                    lr=1e-3,\n",
    "                    epochs=50,\n",
    "                    max_features=2000,\n",
    "                    test_size=0.2,\n",
    "                    scheduler_step=None,\n",
    "                    scheduler_gamma=0.8,\n",
    "                    random_state=42):\n",
    "        \n",
    "        if self.X is None or self.y is None:\n",
    "            print(\"Building features (TF-IDF)...\")\n",
    "            self.build_features(max_features=max_features)\n",
    "\n",
    "    # Filtrer les classes rares (<2 exemples)\n",
    "        cnt = Counter(self.y)\n",
    "        valid = [cls for cls, c in cnt.items() if c >= 2]\n",
    "\n",
    "        if len(valid) < 2:\n",
    "            raise ValueError(\"Il n'y a pas assez de classes valides avec au moins 2 échantillons chacune !\")\n",
    "\n",
    "        mask = np.isin(self.y, valid)\n",
    "        self.X = self.X[mask]\n",
    "        self.y = self.y[mask]\n",
    "\n",
    "        print(f\"Filtered dataset: {len(self.y)} samples, {len(valid)} valid classes\")\n",
    "\n",
    "        #   Split train/test\n",
    "        X_train, X_test, y_train, y_test = train_test_split(\n",
    "            self.X, self.y, test_size=test_size, random_state=random_state,\n",
    "            stratify=self.y if len(set(self.y)) > 1 else None\n",
    "    )\n",
    "        print(f\"Train samples: {len(X_train)}, Test samples: {len(X_test)}\")\n",
    "\n",
    "        # Données Tensor\n",
    "        X_train_t = torch.tensor(X_train, dtype=torch.float32)\n",
    "        y_train_t = torch.tensor(y_train, dtype=torch.long)\n",
    "        X_test_t = torch.tensor(X_test, dtype=torch.float32)\n",
    "        y_test_t = torch.tensor(y_test, dtype=torch.long)\n",
    "\n",
    "        train_loader = DataLoader(TensorDataset(X_train_t, y_train_t),\n",
    "                              batch_size=batch_size, shuffle=True)\n",
    "\n",
    "        # Création du modèle\n",
    "        input_size = self.X.shape[1]\n",
    "        output_size = len(valid)  \n",
    "\n",
    "        self.model = ChatbotModel(input_size, output_size)\n",
    "\n",
    "        criterion = nn.CrossEntropyLoss()\n",
    "        optimizer = optim.Adam(self.model.parameters(), lr=lr)\n",
    "        scheduler = optim.lr_scheduler.StepLR(optimizer, step_size=scheduler_step, gamma=scheduler_gamma)\n",
    "\n",
    "        # Entraînement\n",
    "        print(\"\\n Starting training...\\n\")\n",
    "        loss_values = []\n",
    "\n",
    "        for epoch in range(epochs):\n",
    "            self.model.train()\n",
    "            running_loss = 0.0\n",
    "\n",
    "            for batch_X, batch_y in tqdm(train_loader, desc=f\"Epoch {epoch+1}/{epochs}\", leave=False):\n",
    "                optimizer.zero_grad()\n",
    "                outputs = self.model(batch_X)\n",
    "                loss = criterion(outputs, batch_y)\n",
    "                loss.backward()\n",
    "                optimizer.step()\n",
    "                running_loss += loss.item()\n",
    "\n",
    "            scheduler.step()\n",
    "            epoch_loss = running_loss / len(train_loader)\n",
    "            loss_values.append(epoch_loss)\n",
    "            print(f\"Epoch {epoch+1}/{epochs} | Loss: {epoch_loss:.4f} | LR: {scheduler.get_last_lr()[0]:.6f}\")\n",
    "\n",
    "        # Loss Graphe\n",
    "        plt.figure(figsize=(8, 5))\n",
    "        plt.plot(loss_values, label=\"Training Loss\", color=\"blue\")\n",
    "        plt.title(\"Training Loss Curve\")\n",
    "        plt.xlabel(\"Epochs\")\n",
    "        plt.ylabel(\"Loss\")\n",
    "        plt.legend()\n",
    "        plt.grid(True)\n",
    "        plt.show()\n",
    "\n",
    "        # Evaluation\n",
    "        self.model.eval()\n",
    "        with torch.no_grad():\n",
    "            preds = torch.argmax(self.model(X_test_t), dim=1).numpy()\n",
    "\n",
    "        acc = accuracy_score(y_test, preds)\n",
    "        print(\"\\n=== Test set evaluation ===\")\n",
    "        print(f\"Accuracy: {acc:.4f}\")\n",
    "\n",
    "    #   Mettre à jour les noms d’intents valides\n",
    "        unique_labels = np.unique(y_test)\n",
    "        filtered_names = [self.label_names[i] for i in unique_labels if i < len(self.label_names)]\n",
    "\n",
    "        print(classification_report(\n",
    "        y_test, preds,\n",
    "        labels=unique_labels,\n",
    "        target_names=filtered_names,\n",
    "        zero_division=0\n",
    "    ))\n",
    "\n",
    "        print(\"\\n Model training + evaluation complete.\")\n",
    "\n",
    "         \n",
    "        print(\"Model training + evaluation complete.\")\n",
    "        unique_labels = np.unique(y_test)\n",
    "        filtered_names = [self.label_names[i] for i in unique_labels]\n",
    "    \n",
    "    \n",
    "    # Sauvegarde / Chargement\n",
    "    def save_all(self, model_path=\"chat_model.pth\", meta_path=\"meta.pkl\"):\n",
    "        torch.save(self.model.state_dict(), model_path)\n",
    "        meta = {\n",
    "            \"label_names\": self.label_names,\n",
    "            \"vectorizer\": self.vectorizer  \n",
    "        }\n",
    "        \n",
    "        with open(meta_path, \"wb\") as f:\n",
    "            pickle.dump(meta, f)\n",
    "        print(f\"Saved model to {model_path} and meta to {meta_path}.\")\n",
    "\n",
    "    def load_all(self, model_path=\"chat_model_tfidf.pth\", meta_path=\"meta_tfidf.pkl\"):\n",
    "        with open(meta_path, \"rb\") as f:\n",
    "            meta = pickle.load(f)\n",
    "        self.label_names = meta[\"label_names\"]\n",
    "        self.vectorizer = meta[\"vectorizer\"]\n",
    "        input_size = self.vectorizer.max_features if hasattr(self.vectorizer, \"max_features\") and self.vectorizer.max_features is not None else self.vectorizer.vocabulary_.__len__()\n",
    "        \n",
    "        input_size = len(self.vectorizer.get_feature_names_out())\n",
    "        output_size = len(self.label_names)\n",
    "        self.model = ChatbotModel(input_size, output_size).to(self.device)\n",
    "        self.model.load_state_dict(torch.load(model_path, map_location=self.device))\n",
    "        self.model.eval()\n",
    "        print(f\"Loaded model and meta from {model_path}, {meta_path}.\")\n",
    "\n",
    "    \n",
    "    \n",
    "    # Interaction avec l'utilisateur\n",
    "    def process_message(self, input_message, threshold=0.65, log_uncertain=True):\n",
    "        if self.model is None or self.vectorizer is None:\n",
    "            raise RuntimeError(\"Modèle ou vectoriseur non chargé. Appelez d'abord train_model() ou load_all().\")\n",
    "\n",
    "        cleaned = self.preprocess_text(input_message)\n",
    "        vec = self.vectorizer.transform([cleaned]).toarray()\n",
    "        input_t = torch.tensor(vec, dtype=torch.float32).to(self.device)\n",
    "\n",
    "        with torch.no_grad():\n",
    "            logits = self.model(input_t)\n",
    "            probs = F.softmax(logits, dim=1)\n",
    "            confidence, idx = torch.max(probs, dim=1)\n",
    "            confidence = confidence.item()\n",
    "            pred_idx = idx.item()\n",
    "            predicted_intent = self.label_names[pred_idx]\n",
    "\n",
    "        if confidence >= threshold:\n",
    "            \n",
    "            resp = random.choice(self.intents_responses.get(predicted_intent, [\"Sorry, I don't have a response.\"]))\n",
    "            return f\"({confidence*100:.1f}% confident) {resp}\"\n",
    "        else:\n",
    "            if log_uncertain:\n",
    "                with open(\"uncertain_inputs.log\", \"a\", encoding=\"utf-8\") as f:\n",
    "                    f.write(input_message.strip() + \"\\n\")\n",
    "            return \"I'm not sure I understood that. Could you rephrase?\"\n",
    "\n",
    "\n",
    "\n",
    " \n"
   ]
  },
  {
   "cell_type": "code",
   "execution_count": 4,
   "metadata": {},
   "outputs": [
    {
     "name": "stdout",
     "output_type": "stream",
     "text": [
      "Loaded 758 patterns across 137 intents.\n",
      "Building features (TF-IDF)...\n",
      "TF-IDF built: X.shape = (758, 852), y.shape = (758,)\n",
      "Filtered shapes: (690, 852) (690,)\n",
      "Nouvelle taille de label_names : 69\n",
      "Filtered dataset: 690 samples, 69 valid classes\n",
      "Train samples: 552, Test samples: 138\n",
      "\n",
      " Starting training...\n",
      "\n"
     ]
    },
    {
     "name": "stderr",
     "output_type": "stream",
     "text": [
      "                                                           \r"
     ]
    },
    {
     "name": "stdout",
     "output_type": "stream",
     "text": [
      "Epoch 1/50 | Loss: 4.1515 | LR: 0.001000\n"
     ]
    },
    {
     "name": "stderr",
     "output_type": "stream",
     "text": [
      "                                                           \r"
     ]
    },
    {
     "name": "stdout",
     "output_type": "stream",
     "text": [
      "Epoch 2/50 | Loss: 3.7816 | LR: 0.001000\n"
     ]
    },
    {
     "name": "stderr",
     "output_type": "stream",
     "text": [
      "                                                           \r"
     ]
    },
    {
     "name": "stdout",
     "output_type": "stream",
     "text": [
      "Epoch 3/50 | Loss: 3.1842 | LR: 0.001000\n"
     ]
    },
    {
     "name": "stderr",
     "output_type": "stream",
     "text": [
      "                                                           \r"
     ]
    },
    {
     "name": "stdout",
     "output_type": "stream",
     "text": [
      "Epoch 4/50 | Loss: 2.7085 | LR: 0.001000\n"
     ]
    },
    {
     "name": "stderr",
     "output_type": "stream",
     "text": [
      "                                                           \r"
     ]
    },
    {
     "name": "stdout",
     "output_type": "stream",
     "text": [
      "Epoch 5/50 | Loss: 2.3822 | LR: 0.001000\n"
     ]
    },
    {
     "name": "stderr",
     "output_type": "stream",
     "text": [
      "                                                           \r"
     ]
    },
    {
     "name": "stdout",
     "output_type": "stream",
     "text": [
      "Epoch 6/50 | Loss: 2.1801 | LR: 0.001000\n"
     ]
    },
    {
     "name": "stderr",
     "output_type": "stream",
     "text": [
      "                                                           \r"
     ]
    },
    {
     "name": "stdout",
     "output_type": "stream",
     "text": [
      "Epoch 7/50 | Loss: 1.9337 | LR: 0.001000\n"
     ]
    },
    {
     "name": "stderr",
     "output_type": "stream",
     "text": [
      "                                                           \r"
     ]
    },
    {
     "name": "stdout",
     "output_type": "stream",
     "text": [
      "Epoch 8/50 | Loss: 1.7044 | LR: 0.001000\n"
     ]
    },
    {
     "name": "stderr",
     "output_type": "stream",
     "text": [
      "                                                           \r"
     ]
    },
    {
     "name": "stdout",
     "output_type": "stream",
     "text": [
      "Epoch 9/50 | Loss: 1.6519 | LR: 0.001000\n"
     ]
    },
    {
     "name": "stderr",
     "output_type": "stream",
     "text": [
      "                                                            \r"
     ]
    },
    {
     "name": "stdout",
     "output_type": "stream",
     "text": [
      "Epoch 10/50 | Loss: 1.4828 | LR: 0.001000\n"
     ]
    },
    {
     "name": "stderr",
     "output_type": "stream",
     "text": [
      "                                                            \r"
     ]
    },
    {
     "name": "stdout",
     "output_type": "stream",
     "text": [
      "Epoch 11/50 | Loss: 1.2972 | LR: 0.001000\n"
     ]
    },
    {
     "name": "stderr",
     "output_type": "stream",
     "text": [
      "                                                            \r"
     ]
    },
    {
     "name": "stdout",
     "output_type": "stream",
     "text": [
      "Epoch 12/50 | Loss: 1.2762 | LR: 0.001000\n"
     ]
    },
    {
     "name": "stderr",
     "output_type": "stream",
     "text": [
      "                                                            \r"
     ]
    },
    {
     "name": "stdout",
     "output_type": "stream",
     "text": [
      "Epoch 13/50 | Loss: 1.1285 | LR: 0.001000\n"
     ]
    },
    {
     "name": "stderr",
     "output_type": "stream",
     "text": [
      "                                                            \r"
     ]
    },
    {
     "name": "stdout",
     "output_type": "stream",
     "text": [
      "Epoch 14/50 | Loss: 1.0156 | LR: 0.001000\n"
     ]
    },
    {
     "name": "stderr",
     "output_type": "stream",
     "text": [
      "                                                            \r"
     ]
    },
    {
     "name": "stdout",
     "output_type": "stream",
     "text": [
      "Epoch 15/50 | Loss: 0.9834 | LR: 0.000800\n"
     ]
    },
    {
     "name": "stderr",
     "output_type": "stream",
     "text": [
      "                                                            \r"
     ]
    },
    {
     "name": "stdout",
     "output_type": "stream",
     "text": [
      "Epoch 16/50 | Loss: 0.9330 | LR: 0.000800\n"
     ]
    },
    {
     "name": "stderr",
     "output_type": "stream",
     "text": [
      "                                                            \r"
     ]
    },
    {
     "name": "stdout",
     "output_type": "stream",
     "text": [
      "Epoch 17/50 | Loss: 0.9071 | LR: 0.000800\n"
     ]
    },
    {
     "name": "stderr",
     "output_type": "stream",
     "text": [
      "                                                            \r"
     ]
    },
    {
     "name": "stdout",
     "output_type": "stream",
     "text": [
      "Epoch 18/50 | Loss: 0.8152 | LR: 0.000800\n"
     ]
    },
    {
     "name": "stderr",
     "output_type": "stream",
     "text": [
      "                                                            \r"
     ]
    },
    {
     "name": "stdout",
     "output_type": "stream",
     "text": [
      "Epoch 19/50 | Loss: 0.7854 | LR: 0.000800\n"
     ]
    },
    {
     "name": "stderr",
     "output_type": "stream",
     "text": [
      "                                                            \r"
     ]
    },
    {
     "name": "stdout",
     "output_type": "stream",
     "text": [
      "Epoch 20/50 | Loss: 0.7461 | LR: 0.000800\n"
     ]
    },
    {
     "name": "stderr",
     "output_type": "stream",
     "text": [
      "                                                            \r"
     ]
    },
    {
     "name": "stdout",
     "output_type": "stream",
     "text": [
      "Epoch 21/50 | Loss: 0.6885 | LR: 0.000800\n"
     ]
    },
    {
     "name": "stderr",
     "output_type": "stream",
     "text": [
      "                                                            \r"
     ]
    },
    {
     "name": "stdout",
     "output_type": "stream",
     "text": [
      "Epoch 22/50 | Loss: 0.6905 | LR: 0.000800\n"
     ]
    },
    {
     "name": "stderr",
     "output_type": "stream",
     "text": [
      "                                                            \r"
     ]
    },
    {
     "name": "stdout",
     "output_type": "stream",
     "text": [
      "Epoch 23/50 | Loss: 0.5815 | LR: 0.000800\n"
     ]
    },
    {
     "name": "stderr",
     "output_type": "stream",
     "text": [
      "                                                            \r"
     ]
    },
    {
     "name": "stdout",
     "output_type": "stream",
     "text": [
      "Epoch 24/50 | Loss: 0.5805 | LR: 0.000800\n"
     ]
    },
    {
     "name": "stderr",
     "output_type": "stream",
     "text": [
      "                                                            \r"
     ]
    },
    {
     "name": "stdout",
     "output_type": "stream",
     "text": [
      "Epoch 25/50 | Loss: 0.5248 | LR: 0.000800\n"
     ]
    },
    {
     "name": "stderr",
     "output_type": "stream",
     "text": [
      "                                                            \r"
     ]
    },
    {
     "name": "stdout",
     "output_type": "stream",
     "text": [
      "Epoch 26/50 | Loss: 0.4534 | LR: 0.000800\n"
     ]
    },
    {
     "name": "stderr",
     "output_type": "stream",
     "text": [
      "                                                            \r"
     ]
    },
    {
     "name": "stdout",
     "output_type": "stream",
     "text": [
      "Epoch 27/50 | Loss: 0.4579 | LR: 0.000800\n"
     ]
    },
    {
     "name": "stderr",
     "output_type": "stream",
     "text": [
      "                                                            \r"
     ]
    },
    {
     "name": "stdout",
     "output_type": "stream",
     "text": [
      "Epoch 28/50 | Loss: 0.4604 | LR: 0.000800\n"
     ]
    },
    {
     "name": "stderr",
     "output_type": "stream",
     "text": [
      "                                                            \r"
     ]
    },
    {
     "name": "stdout",
     "output_type": "stream",
     "text": [
      "Epoch 29/50 | Loss: 0.4191 | LR: 0.000800\n"
     ]
    },
    {
     "name": "stderr",
     "output_type": "stream",
     "text": [
      "                                                            \r"
     ]
    },
    {
     "name": "stdout",
     "output_type": "stream",
     "text": [
      "Epoch 30/50 | Loss: 0.3802 | LR: 0.000640\n"
     ]
    },
    {
     "name": "stderr",
     "output_type": "stream",
     "text": [
      "                                                            \r"
     ]
    },
    {
     "name": "stdout",
     "output_type": "stream",
     "text": [
      "Epoch 31/50 | Loss: 0.3447 | LR: 0.000640\n"
     ]
    },
    {
     "name": "stderr",
     "output_type": "stream",
     "text": [
      "                                                            \r"
     ]
    },
    {
     "name": "stdout",
     "output_type": "stream",
     "text": [
      "Epoch 32/50 | Loss: 0.3154 | LR: 0.000640\n"
     ]
    },
    {
     "name": "stderr",
     "output_type": "stream",
     "text": [
      "                                                            \r"
     ]
    },
    {
     "name": "stdout",
     "output_type": "stream",
     "text": [
      "Epoch 33/50 | Loss: 0.3705 | LR: 0.000640\n"
     ]
    },
    {
     "name": "stderr",
     "output_type": "stream",
     "text": [
      "                                                            \r"
     ]
    },
    {
     "name": "stdout",
     "output_type": "stream",
     "text": [
      "Epoch 34/50 | Loss: 0.3010 | LR: 0.000640\n"
     ]
    },
    {
     "name": "stderr",
     "output_type": "stream",
     "text": [
      "                                                            \r"
     ]
    },
    {
     "name": "stdout",
     "output_type": "stream",
     "text": [
      "Epoch 35/50 | Loss: 0.3002 | LR: 0.000640\n"
     ]
    },
    {
     "name": "stderr",
     "output_type": "stream",
     "text": [
      "                                                            \r"
     ]
    },
    {
     "name": "stdout",
     "output_type": "stream",
     "text": [
      "Epoch 36/50 | Loss: 0.2470 | LR: 0.000640\n"
     ]
    },
    {
     "name": "stderr",
     "output_type": "stream",
     "text": [
      "                                                            \r"
     ]
    },
    {
     "name": "stdout",
     "output_type": "stream",
     "text": [
      "Epoch 37/50 | Loss: 0.2547 | LR: 0.000640\n"
     ]
    },
    {
     "name": "stderr",
     "output_type": "stream",
     "text": [
      "                                                            \r"
     ]
    },
    {
     "name": "stdout",
     "output_type": "stream",
     "text": [
      "Epoch 38/50 | Loss: 0.2392 | LR: 0.000640\n"
     ]
    },
    {
     "name": "stderr",
     "output_type": "stream",
     "text": [
      "                                                            \r"
     ]
    },
    {
     "name": "stdout",
     "output_type": "stream",
     "text": [
      "Epoch 39/50 | Loss: 0.2720 | LR: 0.000640\n"
     ]
    },
    {
     "name": "stderr",
     "output_type": "stream",
     "text": [
      "                                                            \r"
     ]
    },
    {
     "name": "stdout",
     "output_type": "stream",
     "text": [
      "Epoch 40/50 | Loss: 0.2414 | LR: 0.000640\n"
     ]
    },
    {
     "name": "stderr",
     "output_type": "stream",
     "text": [
      "                                                            \r"
     ]
    },
    {
     "name": "stdout",
     "output_type": "stream",
     "text": [
      "Epoch 41/50 | Loss: 0.2541 | LR: 0.000640\n"
     ]
    },
    {
     "name": "stderr",
     "output_type": "stream",
     "text": [
      "                                                            \r"
     ]
    },
    {
     "name": "stdout",
     "output_type": "stream",
     "text": [
      "Epoch 42/50 | Loss: 0.2133 | LR: 0.000640\n"
     ]
    },
    {
     "name": "stderr",
     "output_type": "stream",
     "text": [
      "                                                            \r"
     ]
    },
    {
     "name": "stdout",
     "output_type": "stream",
     "text": [
      "Epoch 43/50 | Loss: 0.2370 | LR: 0.000640\n"
     ]
    },
    {
     "name": "stderr",
     "output_type": "stream",
     "text": [
      "                                                            \r"
     ]
    },
    {
     "name": "stdout",
     "output_type": "stream",
     "text": [
      "Epoch 44/50 | Loss: 0.2551 | LR: 0.000640\n"
     ]
    },
    {
     "name": "stderr",
     "output_type": "stream",
     "text": [
      "                                                            \r"
     ]
    },
    {
     "name": "stdout",
     "output_type": "stream",
     "text": [
      "Epoch 45/50 | Loss: 0.1806 | LR: 0.000512\n"
     ]
    },
    {
     "name": "stderr",
     "output_type": "stream",
     "text": [
      "                                                            \r"
     ]
    },
    {
     "name": "stdout",
     "output_type": "stream",
     "text": [
      "Epoch 46/50 | Loss: 0.1757 | LR: 0.000512\n"
     ]
    },
    {
     "name": "stderr",
     "output_type": "stream",
     "text": [
      "                                                            \r"
     ]
    },
    {
     "name": "stdout",
     "output_type": "stream",
     "text": [
      "Epoch 47/50 | Loss: 0.1925 | LR: 0.000512\n"
     ]
    },
    {
     "name": "stderr",
     "output_type": "stream",
     "text": [
      "                                                            \r"
     ]
    },
    {
     "name": "stdout",
     "output_type": "stream",
     "text": [
      "Epoch 48/50 | Loss: 0.2216 | LR: 0.000512\n"
     ]
    },
    {
     "name": "stderr",
     "output_type": "stream",
     "text": [
      "                                                            \r"
     ]
    },
    {
     "name": "stdout",
     "output_type": "stream",
     "text": [
      "Epoch 49/50 | Loss: 0.1738 | LR: 0.000512\n"
     ]
    },
    {
     "name": "stderr",
     "output_type": "stream",
     "text": [
      "                                                            \r"
     ]
    },
    {
     "name": "stdout",
     "output_type": "stream",
     "text": [
      "Epoch 50/50 | Loss: 0.1773 | LR: 0.000512\n"
     ]
    },
    {
     "data": {
      "image/png": "[encoded data removed]",
      "text/plain": [
       "<Figure size 800x500 with 1 Axes>"
      ]
     },
     "metadata": {},
     "output_type": "display_data"
    },
    {
     "name": "stdout",
     "output_type": "stream",
     "text": [
      "\n",
      "=== Test set evaluation ===\n",
      "Accuracy: 0.6377\n",
      "                                    precision    recall  f1-score   support\n",
      "\n",
      "                   bookappointment       0.33      0.20      0.25         5\n",
      "             rescheduleappointment       0.70      0.78      0.74         9\n",
      "                 cancelappointment       0.00      0.00      0.00         2\n",
      "                  doctorinfolookup       0.75      0.60      0.67         5\n",
      "                    billingsupport       0.73      1.00      0.84         8\n",
      "                  emergencycontact       1.00      0.25      0.40         4\n",
      "                      transfercall       0.00      0.00      0.00         4\n",
      "                 checkreportstatus       0.89      1.00      0.94         8\n",
      "                 updatepatientinfo       1.00      0.92      0.96        13\n",
      "             insuranceclaimsupport       0.83      0.83      0.83         6\n",
      "                    labtestbooking       1.00      0.67      0.80         3\n",
      "                prescriptionrefill       0.89      1.00      0.94         8\n",
      "         vaccinationschedulelookup       0.50      0.67      0.57         3\n",
      "            vaccinesideeffectsinfo       1.00      0.50      0.67         2\n",
      "             recordtransferrequest       0.80      0.80      0.80         5\n",
      "            telehealthavailability       0.33      0.50      0.40         2\n",
      "       confidentialitypolicylookup       1.00      0.50      0.67         2\n",
      "pediatricvaccinationschedulelookup       0.33      0.50      0.40         2\n",
      "                     confirmupdate       1.00      1.00      1.00         1\n",
      "        mentalhealthresourcelookup       1.00      1.00      1.00         2\n",
      "            recordstransferrequest       1.00      1.00      1.00         1\n",
      "                telehealthplatform       0.00      0.00      0.00         1\n",
      "         travelclearanceformlookup       1.00      1.00      1.00         1\n",
      "             insuranceverification       0.00      0.00      0.00         1\n",
      "       dischargeinstructionslookup       0.50      1.00      0.67         1\n",
      "                          greeting       0.40      1.00      0.57         4\n",
      "                           goodbye       1.00      1.00      1.00         3\n",
      "                            thanks       1.00      0.67      0.80         3\n",
      "                  book_appointment       0.00      0.00      0.00         1\n",
      "            reschedule_appointment       0.00      0.00      0.00         1\n",
      "                cancel_appointment       0.00      0.00      0.00         1\n",
      "                    check_symptoms       0.00      0.00      0.00         1\n",
      "                    insurance_info       0.00      0.00      0.00         1\n",
      "                     working_hours       0.00      0.00      0.00         2\n",
      "                         emergency       0.67      1.00      0.80         2\n",
      "               appointment_booking       0.00      0.00      0.00         1\n",
      "          appointment_cancellation       0.20      1.00      0.33         1\n",
      "            appointment_reschedule       0.00      0.00      0.00         1\n",
      "                     symptom_check       0.00      0.00      0.00         1\n",
      "                         insurance       0.00      0.00      0.00         1\n",
      "               doctor_availability       0.33      1.00      0.50         1\n",
      "                      test_results       1.00      1.00      1.00         1\n",
      "                           billing       0.00      0.00      0.00         1\n",
      "                          location       0.00      0.00      0.00         1\n",
      "                      opening_days       0.00      0.00      0.00         1\n",
      "             doctor_specialization       0.00      0.00      0.00         1\n",
      "               prescription_refill       0.00      0.00      0.00         1\n",
      "                       vaccination       0.00      0.00      0.00         1\n",
      "                          feedback       0.50      1.00      0.67         1\n",
      "                     mental_health       0.00      0.00      0.00         1\n",
      "                    diet_nutrition       1.00      1.00      1.00         1\n",
      "               general_health_tips       0.00      0.00      0.00         1\n",
      "                     symptom_fever       0.00      0.00      0.00         1\n",
      "                     symptom_cough       1.00      1.00      1.00         1\n",
      "                      symptom_cold       0.00      0.00      0.00         1\n",
      "\n",
      "                         micro avg       0.64      0.64      0.64       138\n",
      "                         macro avg       0.43      0.46      0.42       138\n",
      "                      weighted avg       0.62      0.64      0.61       138\n",
      "\n",
      "\n",
      " Model training + evaluation complete.\n",
      "Model training + evaluation complete.\n",
      "Loaded model and meta from chat_model_tfidf.pth, meta_tfidf.pkl.\n",
      "\n",
      "You can chat. Type /quit to exit.\n",
      "Chatbot: (99.9% confident) Hi there, what can I do for you?\n",
      "Chatbot: (75.1% confident) Okay, I can help you with that. Are you looking for the hospital's emergency room contact, or are you trying to update your emergency contact information?\n",
      "Chatbot: I'm not sure I understood that. Could you rephrase?\n",
      "Chatbot: I'm not sure I understood that. Could you rephrase?\n"
     ]
    }
   ],
   "source": [
    "# Exécution\n",
    "\n",
    "if __name__ == \"__main__\":\n",
    "    assistant = ChatbotAssistant(\"data/healthcare_intents.json\")\n",
    "    assistant.parse_intents()\n",
    "    \n",
    "    assistant.train_model(batch_size=32, lr=1e-3, epochs=50, max_features=2000, test_size=0.2, scheduler_step=15, scheduler_gamma=0.8)\n",
    "    #assistant.save_all(\"chat_model_tfidf.pth\", \"meta_tfidf.pkl\")\n",
    "\n",
    "    assistant.load_all('chat_model_tfidf.pth','meta_tfidf.pkl')\n",
    "\n",
    "     \n",
    "    print(\"\\nYou can chat. Type /quit to exit.\")\n",
    "    while True:\n",
    "        msg = input(\"You: \")\n",
    "        if msg.strip().lower() == \"/quit\":\n",
    "            break\n",
    "        print(\"Chatbot:\", assistant.process_message(msg, threshold=0.65))"
   ]
  },
  {
   "cell_type": "code",
   "execution_count": 5,
   "id": "37acf506",
   "metadata": {},
   "outputs": [],
   "source": [
    "\n",
    "# Classe principale du Chatbot\n",
    "\n",
    "class ChatbotAssistant:\n",
    "    def __init__(self, intents_path, function_mappings=None):\n",
    "        self.intents_path = intents_path\n",
    "        self.function_mappings = function_mappings\n",
    "\n",
    "        self.documents = []              \n",
    "        self.intents = []                \n",
    "        self.intents_responses = {}      \n",
    "\n",
    "        self.vectorizer = None\n",
    "        self.label_names = None\n",
    "        self.model = None\n",
    "\n",
    "        self.X = None\n",
    "        self.y = None\n",
    "\n",
    "\n",
    "    # Prétraitement du texte\n",
    "    @staticmethod\n",
    "    def preprocess_text(text):\n",
    "        lemmatizer = WordNetLemmatizer()\n",
    "        stop_words = set(stopwords.words('english'))\n",
    "        if not isinstance(text, str):\n",
    "            return \"\"\n",
    "        tokens = nltk.word_tokenize(text.lower())\n",
    "        tokens = [t for t in tokens if t.isalpha() and t not in stop_words]\n",
    "        lemmas = [lemmatizer.lemmatize(t) for t in tokens]\n",
    "        return \" \".join(lemmas)\n",
    "\n",
    "\n",
    "    \n",
    "    \n",
    "    # Lecture du fichier intents.json\n",
    "    def parse_intents(self):\n",
    "        if not os.path.exists(self.intents_path):\n",
    "            raise FileNotFoundError(f\"File not found: {self.intents_path}\")\n",
    "\n",
    "        with open(self.intents_path, \"r\", encoding=\"utf-8\") as f:\n",
    "            data = json.load(f)\n",
    "\n",
    "        self.documents = []\n",
    "        self.intents = []\n",
    "        self.intents_responses = {}\n",
    "\n",
    "        for intent in data.get(\"intents\", []):\n",
    "            tag = intent.get(\"tag\")\n",
    "            if tag is None:\n",
    "                continue\n",
    "            if tag not in self.intents:\n",
    "                self.intents.append(tag)\n",
    "                self.intents_responses[tag] = intent.get(\"responses\", [])\n",
    "\n",
    "            for pattern in intent.get(\"patterns\", []):\n",
    "                cleaned = self.preprocess_text(pattern)\n",
    "                self.documents.append((cleaned, tag))\n",
    "\n",
    "        print(f\" Loaded {len(self.documents)} patterns across {len(self.intents)} intents.\")\n",
    "\n",
    "\n",
    "    \n",
    "    \n",
    "    # Vectorisation TF-IDF\n",
    "    def build_features(self, max_features=2000):\n",
    "        texts = [doc[0] for doc in self.documents]\n",
    "        tags = [doc[1] for doc in self.documents]\n",
    "\n",
    "        self.label_names = sorted(list(set(self.intents)))\n",
    "        tag_to_idx = {t: i for i, t in enumerate(self.label_names)}\n",
    "        self.y = np.array([tag_to_idx[t] for t in tags])\n",
    "\n",
    "        self.vectorizer = TfidfVectorizer(max_features=max_features)\n",
    "        X = self.vectorizer.fit_transform(texts).toarray()\n",
    "        self.X = X\n",
    "        print(f\" TF-IDF built: X.shape = {self.X.shape}, y.shape = {self.y.shape}\")\n",
    "\n",
    "        # Filtrer les classes trop rares\n",
    "        cnt = Counter(self.y)\n",
    "        valid = [cls for cls, c in cnt.items() if c >= 2]\n",
    "        mask = np.isin(self.y, valid)\n",
    "        self.X = self.X[mask]\n",
    "        self.y = self.y[mask]\n",
    "\n",
    "        old_label_names = self.label_names\n",
    "        new_label_names = [old_label_names[i] for i in valid]\n",
    "        old_to_new = {old_idx: new_idx for new_idx, old_idx in enumerate(valid)}\n",
    "        self.y = np.array([old_to_new[int(old)] for old in self.y if int(old) in old_to_new])\n",
    "        self.label_names = new_label_names\n",
    "\n",
    "        print(f\" Filtered dataset: {len(self.y)} samples, {len(self.label_names)} valid classes.\")\n",
    "\n",
    "\n",
    "    \n",
    "    \n",
    "    # Entraînement du modèle SVM\n",
    "    def train_model(self, test_size=0.2, random_state=42):\n",
    "        if self.X is None or self.y is None:\n",
    "            self.build_features()\n",
    "\n",
    "        X_train, X_test, y_train, y_test = train_test_split(\n",
    "            self.X, self.y, test_size=test_size, random_state=random_state, stratify=self.y\n",
    "        )\n",
    "\n",
    "        print(\"\\n Training Support Vector Machine...\")\n",
    "        self.model = SVC(kernel=\"rbf\", probability=True, class_weight=\"balanced\", C=2, gamma='scale')\n",
    "\n",
    "        self.model.fit(X_train, y_train)\n",
    "\n",
    "        preds = self.model.predict(X_test)\n",
    "        acc = accuracy_score(y_test, preds)\n",
    "        print(f\" SVM Accuracy: {acc:.4f}\")\n",
    "\n",
    "        unique_labels = np.unique(y_test)\n",
    "        filtered_names = [self.label_names[i] for i in unique_labels if i < len(self.label_names)]\n",
    "\n",
    "        print(\"\\n Classification Report:\")\n",
    "        print(classification_report(y_test, preds, labels=unique_labels, target_names=filtered_names, zero_division=0))\n",
    "\n",
    "\n",
    "    \n",
    "    \n",
    "    # Sauvegarde / Chargement avec joblib\n",
    "    def save_all(self, model_path=\"svm_model.pkl\", meta_path=\"svm_meta.pkl\"):\n",
    "        joblib.dump(self.model, model_path)\n",
    "        joblib.dump({\n",
    "            \"vectorizer\": self.vectorizer,\n",
    "            \"label_names\": self.label_names,\n",
    "            \"intents_responses\": self.intents_responses\n",
    "        }, meta_path)\n",
    "        print(f\" Saved model to {model_path} and meta to {meta_path}.\")\n",
    "\n",
    "\n",
    "    def load_all(self, model_path=\"svm_model.pkl\", meta_path=\"svm_meta.pkl\"):\n",
    "        self.model = joblib.load(model_path)\n",
    "        meta = joblib.load(meta_path)\n",
    "        self.vectorizer = meta[\"vectorizer\"]\n",
    "        self.label_names = meta[\"label_names\"]\n",
    "        self.intents_responses = meta[\"intents_responses\"]\n",
    "        print(f\" Loaded model and meta from {model_path}, {meta_path}.\")\n",
    "\n",
    "\n",
    "    \n",
    "    \n",
    "    # Prédiction d’un message utilisateur\n",
    "    def process_message(self, input_message, threshold=0.05, log_uncertain=True):\n",
    "        if self.model is None or self.vectorizer is None:\n",
    "            raise RuntimeError(\"Modèle ou vectoriseur non chargé. Appelez d'abord train_model() ou load_all().\")\n",
    "\n",
    "        cleaned = self.preprocess_text(input_message)\n",
    "        vec = self.vectorizer.transform([cleaned]).toarray()\n",
    "\n",
    "        probs = self.model.predict_proba(vec)[0]\n",
    "        pred_idx = np.argmax(probs)\n",
    "        confidence = probs[pred_idx]\n",
    "        predicted_intent = self.label_names[pred_idx]\n",
    "\n",
    "        if confidence >= threshold:\n",
    "            resp = random.choice(self.intents_responses.get(predicted_intent, [\"Sorry, I don't have a response.\"]))\n",
    "            return f\"({confidence*100:.1f}% confident) {resp}\"\n",
    "        else:\n",
    "            if log_uncertain:\n",
    "                with open(\"uncertain_inputs.log\", \"a\", encoding=\"utf-8\") as f:\n",
    "                    f.write(input_message.strip() + \"\\n\")\n",
    "            return \"I'm not sure I understood that. Could you rephrase?\"\n"
   ]
  },
  {
   "cell_type": "code",
   "execution_count": 6,
   "id": "6cd1f2d9",
   "metadata": {},
   "outputs": [
    {
     "name": "stdout",
     "output_type": "stream",
     "text": [
      " Loaded 758 patterns across 137 intents.\n",
      " TF-IDF built: X.shape = (758, 852), y.shape = (758,)\n",
      " Filtered dataset: 690 samples, 69 valid classes.\n",
      "\n",
      " Training Support Vector Machine...\n",
      " SVM Accuracy: 0.6014\n",
      "\n",
      " Classification Report:\n",
      "                                    precision    recall  f1-score   support\n",
      "\n",
      "                   bookappointment       0.25      0.20      0.22         5\n",
      "             rescheduleappointment       0.75      1.00      0.86         9\n",
      "                 cancelappointment       0.50      0.50      0.50         2\n",
      "                  doctorinfolookup       0.13      0.80      0.23         5\n",
      "                    billingsupport       0.73      1.00      0.84         8\n",
      "                  emergencycontact       1.00      0.25      0.40         4\n",
      "                      transfercall       0.00      0.00      0.00         4\n",
      "                 checkreportstatus       0.88      0.88      0.88         8\n",
      "                 updatepatientinfo       1.00      1.00      1.00        13\n",
      "             insuranceclaimsupport       0.71      0.83      0.77         6\n",
      "                    labtestbooking       1.00      0.67      0.80         3\n",
      "                prescriptionrefill       1.00      0.88      0.93         8\n",
      "         vaccinationschedulelookup       0.50      1.00      0.67         3\n",
      "            vaccinesideeffectsinfo       1.00      0.50      0.67         2\n",
      "             recordtransferrequest       0.75      0.60      0.67         5\n",
      "            telehealthavailability       0.50      0.50      0.50         2\n",
      "       confidentialitypolicylookup       1.00      0.50      0.67         2\n",
      "pediatricvaccinationschedulelookup       0.00      0.00      0.00         2\n",
      "                     confirmupdate       1.00      1.00      1.00         1\n",
      "        mentalhealthresourcelookup       1.00      0.50      0.67         2\n",
      "            recordstransferrequest       0.00      0.00      0.00         1\n",
      "                telehealthplatform       0.00      0.00      0.00         1\n",
      "         travelclearanceformlookup       1.00      1.00      1.00         1\n",
      "             insuranceverification       0.00      0.00      0.00         1\n",
      "       dischargeinstructionslookup       1.00      1.00      1.00         1\n",
      "                          greeting       1.00      0.75      0.86         4\n",
      "                           goodbye       1.00      1.00      1.00         3\n",
      "                            thanks       1.00      0.67      0.80         3\n",
      "                  book_appointment       0.00      0.00      0.00         1\n",
      "            reschedule_appointment       0.00      0.00      0.00         1\n",
      "                cancel_appointment       0.00      0.00      0.00         1\n",
      "                    check_symptoms       0.00      0.00      0.00         1\n",
      "                    insurance_info       0.00      0.00      0.00         1\n",
      "                     working_hours       0.00      0.00      0.00         2\n",
      "                         emergency       0.67      1.00      0.80         2\n",
      "               appointment_booking       0.00      0.00      0.00         1\n",
      "          appointment_cancellation       0.50      1.00      0.67         1\n",
      "            appointment_reschedule       0.00      0.00      0.00         1\n",
      "                     symptom_check       0.00      0.00      0.00         1\n",
      "                         insurance       0.00      0.00      0.00         1\n",
      "               doctor_availability       0.00      0.00      0.00         1\n",
      "                      test_results       0.00      0.00      0.00         1\n",
      "                           billing       0.00      0.00      0.00         1\n",
      "                          location       0.00      0.00      0.00         1\n",
      "                      opening_days       0.00      0.00      0.00         1\n",
      "             doctor_specialization       0.00      0.00      0.00         1\n",
      "               prescription_refill       0.00      0.00      0.00         1\n",
      "                       vaccination       0.00      0.00      0.00         1\n",
      "                          feedback       1.00      1.00      1.00         1\n",
      "                     mental_health       0.00      0.00      0.00         1\n",
      "                    diet_nutrition       0.00      0.00      0.00         1\n",
      "               general_health_tips       0.00      0.00      0.00         1\n",
      "                     symptom_fever       0.00      0.00      0.00         1\n",
      "                     symptom_cough       0.00      0.00      0.00         1\n",
      "                      symptom_cold       0.00      0.00      0.00         1\n",
      "\n",
      "                          accuracy                           0.60       138\n",
      "                         macro avg       0.38      0.36      0.35       138\n",
      "                      weighted avg       0.60      0.60      0.57       138\n",
      "\n",
      " Loaded model and meta from svm_model.pkl, svm_meta.pkl.\n",
      "\n",
      "You can chat. Type /quit to exit.\n",
      "Chatbot: (17.4% confident) Hi there, what can I do for you?\n",
      "Chatbot: (7.9% confident) I can assist with that. Please provide your name, date of birth, and your new address and phone number.\n",
      "Chatbot: (12.2% confident) Okay, I can help you with that. Are you looking for the hospital's emergency room contact, or are you trying to update your emergency contact information?\n"
     ]
    }
   ],
   "source": [
    "# Exécution\n",
    "\n",
    "assistant = ChatbotAssistant(\"data/healthcare_intents.json\")\n",
    "assistant.parse_intents()\n",
    "assistant.build_features()\n",
    "assistant.train_model()\n",
    "\n",
    "#assistant.save_all(\"svm_model.pkl\", \"svm_meta.pkl\")\n",
    "\n",
    "# --- Later ---\n",
    "assistant.load_all(\"svm_model.pkl\", \"svm_meta.pkl\")\n",
    "print(\"\\nYou can chat. Type /quit to exit.\")\n",
    "while True:\n",
    "    msg = input(\"You: \")\n",
    "    if msg.strip().lower() == \"/quit\":\n",
    "        break\n",
    "    print(\"Chatbot:\", assistant.process_message(msg, threshold=0.05))\n"
   ]
  },
  {
   "cell_type": "code",
   "execution_count": 5,
   "metadata": {},
   "outputs": [],
   "source": [
    "\n",
    "\n",
    "# COULEURS ET STYLE\n",
    "\n",
    "BG_COLOR = \"#1E1E1E\"\n",
    "BOT_COLOR = \"#2D2D2D\"\n",
    "USER_COLOR = \"#0078D7\"\n",
    "TEXT_COLOR = \"#EAECEE\"\n",
    "INPUT_COLOR = \"#2C2C2C\"\n",
    "\n",
    "FONT = \"Helvetica 12\"\n",
    "FONT_BOLD = \"Helvetica 12 bold\"\n",
    "\n",
    "BOT_NAME = \"MedBot 🤖\"\n",
    "\n",
    "# Application de chat (intégration GUI + modèle)\n",
    "from __main__ import ChatbotAssistant\n",
    "class ModernChatApp:\n",
    "    def __init__(self):\n",
    "        self.window = Tk()\n",
    "        self.window.title(\"MedBot - Healthcare Chat\")\n",
    "        self.window.configure(bg=BG_COLOR)\n",
    "        self.window.geometry(\"500x600\")\n",
    "        self.window.resizable(False, False)\n",
    "\n",
    "        self.setup_ui()\n",
    "\n",
    "        # Initialiser l'assistant chatbot\n",
    "        self.assistant = ChatbotAssistant(\"data/healthcare_intents.json\")\n",
    "        self.assistant.parse_intents()\n",
    "\n",
    "        # Essayer de charger le modèle s'il est disponible\n",
    "        if os.path.exists(\"chat_model_tfidf.pth\") and os.path.exists(\"meta_tfidf.pkl\"):\n",
    "            self.assistant.load_all(\"chat_model_tfidf.pth\", \"meta_tfidf.pkl\")\n",
    "            print(\" Model loaded successfully.\")\n",
    "        else:\n",
    "            print(\"Modèle ou métadonnées introuvables. Veuillez d'abord l'entraîner.\")\n",
    "            \n",
    "\n",
    "    \n",
    "    \n",
    "    # Setup UI components\n",
    "    def setup_ui(self):\n",
    "        # Header\n",
    "        header = Label(self.window, text=\"💬 MedBot Healthcare Assistant\",\n",
    "                       bg=BG_COLOR, fg=\"#00A8E8\", font=(\"Helvetica\", 15, \"bold\"), pady=10)\n",
    "        header.pack(fill=X)\n",
    "\n",
    "        # Chat display (scrollable)\n",
    "        self.chat_display = scrolledtext.ScrolledText(\n",
    "            self.window, wrap=WORD, bg=BOT_COLOR, fg=TEXT_COLOR,\n",
    "            font=FONT, padx=10, pady=10, state=DISABLED\n",
    "        )\n",
    "        self.chat_display.pack(padx=10, pady=10, fill=BOTH, expand=True)\n",
    "\n",
    "        # Bottom frame (input + send button)\n",
    "        bottom_frame = Frame(self.window, bg=BG_COLOR)\n",
    "        bottom_frame.pack(fill=X, side=BOTTOM, pady=5)\n",
    "\n",
    "        self.msg_entry = Entry(bottom_frame, bg=INPUT_COLOR, fg=TEXT_COLOR,\n",
    "                               font=FONT, insertbackground=TEXT_COLOR, relief=FLAT)\n",
    "        self.msg_entry.pack(fill=X, padx=10, pady=10, ipady=8, side=LEFT, expand=True)\n",
    "        self.msg_entry.bind(\"<Return>\", self.send_message)\n",
    "\n",
    "        send_btn = Button(bottom_frame, text=\"Send ➤\", bg=\"#00A8E8\",\n",
    "                          fg=\"white\", font=FONT_BOLD, relief=FLAT,\n",
    "                          command=lambda: self.send_message(None))\n",
    "        send_btn.pack(side=RIGHT, padx=10, pady=5)\n",
    "\n",
    "    \n",
    "    \n",
    "    # Envoi de messages et gestion des réponses\n",
    "    def send_message(self, event):\n",
    "        msg = self.msg_entry.get().strip()\n",
    "        if not msg:\n",
    "            return\n",
    "        self.msg_entry.delete(0, END)\n",
    "\n",
    "        self._insert_message(msg, sender=\"You\", align=\"right\", color=USER_COLOR)\n",
    "\n",
    "        # Simulate typing\n",
    "        self._insert_message(\"typing...\", sender=BOT_NAME, align=\"left\", color=\"#777777\", temp=True)\n",
    "\n",
    "        # Run bot response in a separate thread\n",
    "        threading.Thread(target=self._get_bot_response, args=(msg,)).start()\n",
    "\n",
    "    def _get_bot_response(self, msg):\n",
    "        try:\n",
    "            response = self.assistant.process_message(msg)\n",
    "        except Exception as e:\n",
    "            response = f\" Error: {e}\"\n",
    "\n",
    "        # Remove \"typing...\"\n",
    "        self._delete_last_line()\n",
    "        self._insert_message(response, sender=BOT_NAME, align=\"left\", color=\"#00A8E8\")\n",
    "\n",
    "    \n",
    "    \n",
    "    # Insertion de messages avec des bulles de discussion\n",
    "    def _insert_message(self, text, sender, align=\"left\", color=\"#00A8E8\", temp=False):\n",
    "        self.chat_display.configure(state=NORMAL)\n",
    "\n",
    "        tag_name = f\"{sender}_{align}_{color}\"\n",
    "        self.chat_display.tag_configure(tag_name, justify=align, foreground=color, spacing3=5)\n",
    "\n",
    "        message = f\"{sender}: {text}\\n\\n\"\n",
    "        self.chat_display.insert(END, message, tag_name)\n",
    "        self.chat_display.configure(state=DISABLED)\n",
    "        self.chat_display.see(END)\n",
    "\n",
    "        # If it's temporary (like \"typing...\"), mark position\n",
    "        if temp:\n",
    "            self.last_temp_index = self.chat_display.index(\"end-2c\")\n",
    "\n",
    "    def _delete_last_line(self):\n",
    "        \"\"\"Remove temporary typing message\"\"\"\n",
    "        self.chat_display.configure(state=NORMAL)\n",
    "        self.chat_display.delete(\"end-3l\", \"end-1l\")\n",
    "        self.chat_display.configure(state=DISABLED)\n",
    "\n",
    "    def run(self):\n",
    "        self.window.mainloop()\n",
    "\n",
    "\n",
    "\n",
    "\n"
   ]
  },
  {
   "cell_type": "code",
   "execution_count": 6,
   "metadata": {},
   "outputs": [
    {
     "name": "stdout",
     "output_type": "stream",
     "text": [
      "Loaded 758 patterns across 137 intents.\n",
      "Loaded model and meta from chat_model_tfidf.pth, meta_tfidf.pkl.\n",
      " Model loaded successfully.\n"
     ]
    }
   ],
   "source": [
    "# Lancer l'application\n",
    "if __name__ == \"__main__\":\n",
    "    app = ModernChatApp()\n",
    "    app.run()"
   ]
  },
  {
   "cell_type": "code",
   "execution_count": null,
   "id": "bf5b8fcd",
   "metadata": {},
   "outputs": [],
   "source": []
  },
  {
   "cell_type": "code",
   "execution_count": null,
   "id": "5c3e490d",
   "metadata": {},
   "outputs": [],
   "source": []
  },
  {
   "cell_type": "code",
   "execution_count": null,
   "metadata": {},
   "outputs": [],
   "source": []
  },
  {
   "cell_type": "code",
   "execution_count": null,
   "id": "9f1865ed",
   "metadata": {},
   "outputs": [],
   "source": []
  },
  {
   "cell_type": "code",
   "execution_count": null,
   "id": "e9b934e0",
   "metadata": {},
   "outputs": [],
   "source": []
  },
  {
   "cell_type": "code",
   "execution_count": null,
   "id": "123927ac",
   "metadata": {},
   "outputs": [],
   "source": []
  },
  {
   "cell_type": "code",
   "execution_count": null,
   "metadata": {},
   "outputs": [],
   "source": []
  },
  {
   "cell_type": "code",
   "execution_count": null,
   "metadata": {},
   "outputs": [],
   "source": []
  },
  {
   "cell_type": "code",
   "execution_count": null,
   "metadata": {},
   "outputs": [],
   "source": []
  },
  {
   "cell_type": "code",
   "execution_count": null,
   "id": "cbd0a83f",
   "metadata": {},
   "outputs": [],
   "source": []
  },
  {
   "cell_type": "code",
   "execution_count": null,
   "metadata": {},
   "outputs": [],
   "source": []
  },
  {
   "cell_type": "code",
   "execution_count": null,
   "id": "7061a0c6",
   "metadata": {},
   "outputs": [],
   "source": []
  },
  {
   "cell_type": "code",
   "execution_count": null,
   "id": "14983b2f",
   "metadata": {},
   "outputs": [],
   "source": []
  },
  {
   "cell_type": "code",
   "execution_count": null,
   "metadata": {},
   "outputs": [],
   "source": []
  },
  {
   "cell_type": "code",
   "execution_count": null,
   "metadata": {},
   "outputs": [],
   "source": []
  },
  {
   "cell_type": "code",
   "execution_count": null,
   "id": "d9977f53",
   "metadata": {},
   "outputs": [],
   "source": []
  }
 ],
 "metadata": {
  "kernelspec": {
   "display_name": ".venv",
   "language": "python",
   "name": "python3"
  },
  "language_info": {
   "codemirror_mode": {
    "name": "ipython",
    "version": 3
   },
   "file_extension": ".py",
   "mimetype": "text/x-python",
   "name": "python",
   "nbconvert_exporter": "python",
   "pygments_lexer": "ipython3",
   "version": "3.13.2"
  }
 },
 "nbformat": 4,
 "nbformat_minor": 5
}
